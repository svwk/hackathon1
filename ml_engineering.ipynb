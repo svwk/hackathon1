{
 "nbformat": 4,
 "nbformat_minor": 0,
 "metadata": {
  "colab": {
   "provenance": []
  },
  "kernelspec": {
   "name": "python3",
   "display_name": "Python 3"
  },
  "accelerator": "GPU"
 },
 "cells": [
  {
   "cell_type": "markdown",
   "metadata": {
    "id": "hbf8UxqyDTrw"
   },
   "source": [
    "## Детектирование сигнала светофора\n",
    "\n",
    "Проект направлен на обнаружение сигнала светофора с использованием машинного обучения\n",
    "Задачи:\n",
    "- Обнаружение красного (круглого) сигнала в дневное время\n",
    "- Обнаружение желтого (круглого) сигнала в дневное время\n",
    "- Обнаружение зеленого (круглого) сигнала в дневное время\n",
    "- Детектирование отсутствия светофора в дневное время\n",
    "\n",
    "Для проекта используются следующие датасеты:\n",
    "- тренировочный (4 датасета: red, yellow, green, empty - без светофора)\n",
    "-  тестовый  (4 датасета: red, yellow, green, empty - без светофора)\n",
    "\n",
    "Каждый датасет представляет собой набор изображений с трехсекционным светофором в дневное время (для набора empty - без светофора в дневное время)."
   ]
  },
  {
   "cell_type": "code",
   "metadata": {
    "id": "J-9dE2J4DJM0"
   },
   "source": [
    "import os\n",
    "import numpy as np\n",
    "import tensorflow as tf\n",
    "from tensorflow.keras.models import Sequential\n",
    "from tensorflow.keras import layers\n",
    "from tensorflow.keras import utils\n",
    "from tensorflow.keras.applications import EfficientNetB0\n",
    "from tensorflow.keras.preprocessing import image\n",
    "from tensorflow.keras.preprocessing import image_dataset_from_directory\n",
    "import matplotlib.pyplot as plt\n",
    "from google.colab import files\n",
    "%matplotlib inline "
   ],
   "execution_count": null,
   "outputs": []
  },
  {
   "cell_type": "markdown",
   "metadata": {
    "id": "xW1S04zYCPtc"
   },
   "source": [
    "## Загружаем данные"
   ]
  },
  {
   "cell_type": "code",
   "metadata": {
    "id": "aUmBByJl_nGX",
    "colab": {
     "base_uri": "https://localhost:8080/"
    },
    "outputId": "567f3999-214c-459f-f965-157132692442",
    "pycharm": {
     "is_executing": true
    }
   },
   "source": [
    "!wget https://www.dropbox.com/s/85srzvwk1owrr5t/train_cut.zip?dl=0  -O train.zip"
   ],
   "execution_count": null,
   "outputs": []
  },
  {
   "cell_type": "code",
   "metadata": {
    "colab": {
     "base_uri": "https://localhost:8080/"
    },
    "id": "ZoQ0V8RXzw-y",
    "outputId": "f4a7e50e-24ca-4660-83ce-219048b30fd9",
    "pycharm": {
     "is_executing": true
    }
   },
   "source": [
    "!wget https://www.dropbox.com/s/p7kniyf6fige4eq/test_cut.zip?dl=0 -O test.zip"
   ],
   "execution_count": null,
   "outputs": []
  },
  {
   "cell_type": "code",
   "metadata": {
    "id": "LmTiycULJBV9",
    "colab": {
     "base_uri": "https://localhost:8080/"
    },
    "outputId": "02d54ec9-a3dd-442f-934a-1ed00fac78b9",
    "pycharm": {
     "is_executing": true
    }
   },
   "source": [
    "!ls"
   ],
   "execution_count": null,
   "outputs": []
  },
  {
   "cell_type": "code",
   "metadata": {
    "id": "MNbpcin0JDQ9"
   },
   "source": [
    "!unzip -q train.zip"
   ],
   "execution_count": null,
   "outputs": []
  },
  {
   "cell_type": "code",
   "metadata": {
    "id": "BXlavLxtJbg9",
    "colab": {
     "base_uri": "https://localhost:8080/"
    },
    "outputId": "5bf9fc98-b4f1-42b7-d66a-70c63d742239"
   },
   "source": [
    "!ls train"
   ],
   "execution_count": null,
   "outputs": [
    {
     "output_type": "stream",
     "name": "stdout",
     "text": [
      "cat  dog\n"
     ]
    }
   ]
  },
  {
   "cell_type": "code",
   "metadata": {
    "id": "_xPKDP1a0GY1"
   },
   "source": [
    "!unzip -q test.zip"
   ],
   "execution_count": null,
   "outputs": []
  },
  {
   "cell_type": "code",
   "metadata": {
    "colab": {
     "base_uri": "https://localhost:8080/"
    },
    "id": "7ZAvRnzw0Nlc",
    "outputId": "61d730eb-bf2f-462d-e54f-bd71a6693508"
   },
   "source": [
    "!ls test"
   ],
   "execution_count": null,
   "outputs": [
    {
     "output_type": "stream",
     "name": "stdout",
     "text": [
      "cat  dog\n"
     ]
    }
   ]
  },
  {
   "cell_type": "markdown",
   "metadata": {
    "id": "sBtxTfArJmo1"
   },
   "source": [
    "Смотрим примеры картинок"
   ]
  },
  {
   "cell_type": "code",
   "metadata": {
    "id": "a3g5TG9_Joct",
    "colab": {
     "base_uri": "https://localhost:8080/",
     "height": 269
    },
    "outputId": "3832c6e4-f8e0-429c-a82f-0d778dc206d6",
    "pycharm": {
     "is_executing": true
    }
   },
   "source": [
    "img_path = 'train/cat/cat.0.jpg'\n",
    "img = image.load_img(img_path, target_size=(224, 224))\n",
    "plt.imshow(img)\n",
    "plt.show()"
   ],
   "execution_count": null,
   "outputs": []
  },
  {
   "cell_type": "markdown",
   "metadata": {
    "id": "VSOoZ5WQg93t"
   },
   "source": [
    "## Создаем наборы данных"
   ]
  },
  {
   "cell_type": "markdown",
   "metadata": {
    "id": "0rZACWwwhHK6"
   },
   "source": [
    "Набор данных для обучения"
   ]
  },
  {
   "cell_type": "code",
   "metadata": {
    "colab": {
     "base_uri": "https://localhost:8080/"
    },
    "id": "_c87nc2hhBbt",
    "outputId": "b993d28e-f5a4-4729-dca4-842f9fff8d85",
    "pycharm": {
     "is_executing": true
    }
   },
   "source": [
    "train_dataset = image_dataset_from_directory('train',\n",
    "                                             batch_size=128,\n",
    "                                             image_size=(224, 224))"
   ],
   "execution_count": null,
   "outputs": []
  },
  {
   "cell_type": "code",
   "metadata": {
    "id": "9yb30gBCvd2Q"
   },
   "source": [
    "class_names = train_dataset.class_names"
   ],
   "execution_count": null,
   "outputs": []
  },
  {
   "cell_type": "code",
   "metadata": {
    "colab": {
     "base_uri": "https://localhost:8080/"
    },
    "id": "NEHSKie1ve1A",
    "outputId": "060978ab-b91b-4cdc-f1e8-c22bf679cb2d",
    "pycharm": {
     "is_executing": true
    }
   },
   "source": [
    "class_names"
   ],
   "execution_count": null,
   "outputs": []
  },
  {
   "cell_type": "markdown",
   "metadata": {
    "id": "rN0z8OQt0Vbd"
   },
   "source": [
    "Набор данных для тестирования"
   ]
  },
  {
   "cell_type": "code",
   "metadata": {
    "colab": {
     "base_uri": "https://localhost:8080/"
    },
    "id": "O4-KCxNY0YY8",
    "outputId": "2c8544e8-9faf-4fb5-9a09-1a6ce627d032",
    "pycharm": {
     "is_executing": true
    }
   },
   "source": [
    "test_dataset = image_dataset_from_directory('test',\n",
    "                                             batch_size=128,\n",
    "                                             image_size=(224, 224))"
   ],
   "execution_count": null,
   "outputs": []
  },
  {
   "cell_type": "markdown",
   "metadata": {
    "id": "FM0jbFq4iN55"
   },
   "source": [
    "## Создаем составную нейронную сеть"
   ]
  },
  {
   "cell_type": "code",
   "metadata": {
    "id": "7VKctT97iQ9V"
   },
   "source": [
    "img_augmentation = Sequential(\n",
    "    [\n",
    "        layers.RandomRotation(factor=0.15),\n",
    "        layers.RandomTranslation(height_factor=0.1, width_factor=0.1),\n",
    "        layers.RandomFlip(),\n",
    "        layers.RandomContrast(factor=0.1),\n",
    "    ],\n",
    "    name=\"img_augmentation\",\n",
    ")"
   ],
   "execution_count": null,
   "outputs": []
  },
  {
   "cell_type": "code",
   "metadata": {
    "id": "oSnveNshkha0",
    "colab": {
     "base_uri": "https://localhost:8080/"
    },
    "outputId": "3843ccf3-8203-4429-946b-b5878ce3791c",
    "pycharm": {
     "is_executing": true
    }
   },
   "source": [
    "inputs = layers.Input(shape=(224, 224, 3))\n",
    "x = img_augmentation(inputs)\n",
    "model = EfficientNetB0(include_top=False, input_tensor=x, weights=\"imagenet\")\n",
    "\n",
    "# Freeze the pretrained weights\n",
    "model.trainable = False\n",
    "\n",
    "# Rebuild top\n",
    "x = layers.GlobalAveragePooling2D(name=\"avg_pool\")(model.output)\n",
    "x = layers.BatchNormalization()(x)\n",
    "\n",
    "top_dropout_rate = 0.2\n",
    "x = layers.Dropout(top_dropout_rate, name=\"top_dropout\")(x)\n",
    "# Для задачи с двумя классами изображений\n",
    "outputs = layers.Dense(1, activation=\"sigmoid\", name=\"pred\")(x)\n",
    "# Для задачи с несколькими классами изображений\n",
    "# num_classes = 3 # Задаем количество классов\n",
    "# outputs = layers.Dense(num_classes, activation=\"softmax\", name=\"pred\")(x)\n",
    "model = tf.keras.Model(inputs, outputs, name=\"EfficientNet\")"
   ],
   "execution_count": null,
   "outputs": []
  },
  {
   "cell_type": "markdown",
   "metadata": {
    "id": "Ei5qQXtjZeuQ"
   },
   "source": [
    "Компилируем составную нейронную сеть"
   ]
  },
  {
   "cell_type": "code",
   "metadata": {
    "id": "DeKT__ZeZeDS"
   },
   "source": [
    "# Для задачи с двумя классами изображений\n",
    "model.compile(loss='binary_crossentropy',\n",
    "              optimizer='adam', \n",
    "              metrics=['accuracy'])\n",
    "# Для задачи с несколькими классами изображений\n",
    "# model.compile(loss='categorical_crossentropy',\n",
    "#              optimizer='adam', \n",
    "#              metrics=['accuracy'])"
   ],
   "execution_count": null,
   "outputs": []
  },
  {
   "cell_type": "markdown",
   "metadata": {
    "id": "3WqAoWQSbNY_"
   },
   "source": [
    "## Обучаем сеть"
   ]
  },
  {
   "cell_type": "code",
   "metadata": {
    "id": "vVuZxS7MbQNQ",
    "colab": {
     "base_uri": "https://localhost:8080/"
    },
    "outputId": "4684ce5e-2c81-456d-bf48-535cfc254e6c",
    "pycharm": {
     "is_executing": true
    }
   },
   "source": [
    "history = model.fit(train_dataset,\n",
    "                    epochs=10)"
   ],
   "execution_count": null,
   "outputs": []
  },
  {
   "cell_type": "markdown",
   "metadata": {
    "id": "EUmjkgVfED5F"
   },
   "source": [
    "Проверяем качество обучения на тестовом наборе данных\n"
   ]
  },
  {
   "cell_type": "code",
   "metadata": {
    "id": "VTbj27FSdaey",
    "colab": {
     "base_uri": "https://localhost:8080/"
    },
    "outputId": "6fdd961d-f33b-4ce7-cad9-82e11884252a",
    "pycharm": {
     "is_executing": true
    }
   },
   "source": [
    "scores = model.evaluate(test_dataset, verbose=1)"
   ],
   "execution_count": null,
   "outputs": []
  },
  {
   "cell_type": "code",
   "metadata": {
    "colab": {
     "base_uri": "https://localhost:8080/"
    },
    "id": "Wsnp3qxl01e5",
    "outputId": "7becfb17-c90c-4d16-c9b6-0e736a84e749",
    "pycharm": {
     "is_executing": true
    }
   },
   "source": [
    "print(\"Доля верных ответов на тестовых данных, в процентах:\", round(scores[1] * 100, 4))"
   ],
   "execution_count": null,
   "outputs": []
  },
  {
   "cell_type": "markdown",
   "metadata": {
    "id": "nophkWccubGB"
   },
   "source": [
    "## Использование нейронной сети для распознавания изображений\n",
    "\n",
    "Вспоминаем номера классов"
   ]
  },
  {
   "cell_type": "code",
   "metadata": {
    "colab": {
     "base_uri": "https://localhost:8080/"
    },
    "id": "e7PW4N8UwVNw",
    "outputId": "1510cbac-271e-4ce0-9feb-a1303b776450",
    "pycharm": {
     "is_executing": true
    }
   },
   "source": [
    "class_names"
   ],
   "execution_count": null,
   "outputs": []
  },
  {
   "cell_type": "markdown",
   "metadata": {
    "id": "p3aLt3QbwcLA"
   },
   "source": [
    "Загружаем изображение из файла"
   ]
  },
  {
   "cell_type": "code",
   "metadata": {
    "colab": {
     "base_uri": "https://localhost:8080/",
     "height": 269
    },
    "id": "dp6mVVX6ugSF",
    "outputId": "5066895c-7802-4fbe-83a4-d681e90ee8fa",
    "pycharm": {
     "is_executing": true
    }
   },
   "source": [
    "img_path = 'test/dog/dog.1000.jpg'\n",
    "img = image.load_img(img_path, target_size=(224, 224))\n",
    "plt.imshow(img)\n",
    "plt.show()"
   ],
   "execution_count": null,
   "outputs": []
  },
  {
   "cell_type": "markdown",
   "metadata": {
    "id": "aX_xkm0IwgMs"
   },
   "source": [
    "Преобразуем изображение в массив"
   ]
  },
  {
   "cell_type": "code",
   "metadata": {
    "id": "eREEib0PvBR4"
   },
   "source": [
    "x = image.img_to_array(img)\n",
    "x = np.expand_dims(x, axis=0)"
   ],
   "execution_count": null,
   "outputs": []
  },
  {
   "cell_type": "markdown",
   "metadata": {
    "id": "-QfoEfaOwi95"
   },
   "source": [
    "Запускаем распознавание"
   ]
  },
  {
   "cell_type": "code",
   "metadata": {
    "id": "4YXiKNa2vFjk",
    "colab": {
     "base_uri": "https://localhost:8080/"
    },
    "outputId": "c810a672-adf2-4788-e67e-cee8245097ed",
    "pycharm": {
     "is_executing": true
    }
   },
   "source": [
    "prediction = model.predict(x)"
   ],
   "execution_count": null,
   "outputs": []
  },
  {
   "cell_type": "markdown",
   "metadata": {
    "id": "CD10884AwlhX"
   },
   "source": [
    "Печатаем результаты распознавания"
   ]
  },
  {
   "cell_type": "code",
   "metadata": {
    "colab": {
     "base_uri": "https://localhost:8080/"
    },
    "id": "iZm5X7hKvI40",
    "outputId": "f0729734-f44a-4593-ba20-213d29019e19"
   },
   "source": [
    "prediction\n"
   ],
   "execution_count": null,
   "outputs": [
    {
     "output_type": "execute_result",
     "data": {
      "text/plain": [
       "array([[0.9814932]], dtype=float32)"
      ]
     },
     "metadata": {},
     "execution_count": 26
    }
   ]
  }
 ]
}
