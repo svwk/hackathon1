{
 "nbformat": 4,
 "nbformat_minor": 0,
 "metadata": {
  "colab": {
   "provenance": []
  },
  "kernelspec": {
   "name": "python3",
   "display_name": "Python 3"
  },
  "accelerator": "GPU"
 },
 "cells": [
  {
   "cell_type": "markdown",
   "metadata": {
    "id": "hbf8UxqyDTrw"
   },
   "source": [
    "## Детектирование сигнала светофора\n",
    "\n",
    "Проект направлен на обнаружение сигнала светофора с использованием машинного обучения\n",
    "Задачи:\n",
    "- Обнаружение красного (круглого) сигнала в дневное время\n",
    "- Обнаружение желтого (круглого) сигнала в дневное время\n",
    "- Обнаружение зеленого (круглого) сигнала в дневное время\n",
    "- Детектирование отсутствия светофора в дневное время\n",
    "\n",
    "Для проекта используются следующие датасеты:\n",
    "- тренировочный (4 датасета: red, yellow, green, empty - без светофора)\n",
    "-  тестовый  (4 датасета: red, yellow, green, empty - без светофора)\n",
    "\n",
    "Каждый датасет представляет собой набор изображений с трехсекционным светофором в дневное время (для набора empty - без светофора в дневное время)."
   ]
  },
  {
   "cell_type": "code",
   "metadata": {
    "id": "J-9dE2J4DJM0",
    "executionInfo": {
     "status": "ok",
     "timestamp": 1674035911730,
     "user_tz": -180,
     "elapsed": 2691,
     "user": {
      "displayName": "Svetlana S",
      "userId": "16945885596612037336"
     }
    }
   },
   "source": [
    "import os\n",
    "import numpy as np\n",
    "import tensorflow as tf\n",
    "from tensorflow.keras.models import Sequential\n",
    "from tensorflow.keras import layers\n",
    "from tensorflow.keras import utils\n",
    "from tensorflow.keras.applications import EfficientNetB0\n",
    "from tensorflow.keras.preprocessing import image\n",
    "from tensorflow.keras.preprocessing import image_dataset_from_directory\n",
    "import matplotlib.pyplot as plt\n",
    "from google.colab import files\n",
    "%matplotlib inline "
   ],
   "execution_count": 1,
   "outputs": []
  },
  {
   "cell_type": "markdown",
   "metadata": {
    "id": "xW1S04zYCPtc"
   },
   "source": [
    "## Загружаем данные"
   ]
  },
  {
   "cell_type": "code",
   "metadata": {
    "id": "aUmBByJl_nGX",
    "colab": {
     "base_uri": "https://localhost:8080/"
    },
    "outputId": "2410f656-a87a-40b5-ff63-1da2424ba6b7",
    "pycharm": {
     "is_executing": true
    },
    "executionInfo": {
     "status": "ok",
     "timestamp": 1674035916424,
     "user_tz": -180,
     "elapsed": 2232,
     "user": {
      "displayName": "Svetlana S",
      "userId": "16945885596612037336"
     }
    }
   },
   "source": [
    "!wget https://www.dropbox.com/s/85srzvwk1owrr5t/train_cut.zip?dl=0  -O train_cut.zip"
   ],
   "execution_count": 2,
   "outputs": [
    {
     "output_type": "stream",
     "name": "stdout",
     "text": [
      "--2023-01-18 09:58:34--  https://www.dropbox.com/s/85srzvwk1owrr5t/train_cut.zip?dl=0\n",
      "Resolving www.dropbox.com (www.dropbox.com)... 162.125.80.18, 2620:100:601c:18::a27d:612\n",
      "Connecting to www.dropbox.com (www.dropbox.com)|162.125.80.18|:443... connected.\n",
      "HTTP request sent, awaiting response... 302 Found\n",
      "Location: /s/raw/85srzvwk1owrr5t/train_cut.zip [following]\n",
      "--2023-01-18 09:58:35--  https://www.dropbox.com/s/raw/85srzvwk1owrr5t/train_cut.zip\n",
      "Reusing existing connection to www.dropbox.com:443.\n",
      "HTTP request sent, awaiting response... 302 Found\n",
      "Location: https://uc62e2a168e673cb8801cb791c92.dl.dropboxusercontent.com/cd/0/inline/B0x0edUIKky5IfHSqE70ZMwj-0LwGM1yoVsztOnT2Rr7s52mD7QQAEiL8pp70Ys58KgcMIFdmbgz8euO5_qtBQV7iqMTX-u_OTQjLt2aUNhPAf9_gmWceY31aHOSvYWBBAtBDdaOdrQx-DRv3K0iNQr0IzC-0H1oZEWj0svfWRIlOg/file# [following]\n",
      "--2023-01-18 09:58:35--  https://uc62e2a168e673cb8801cb791c92.dl.dropboxusercontent.com/cd/0/inline/B0x0edUIKky5IfHSqE70ZMwj-0LwGM1yoVsztOnT2Rr7s52mD7QQAEiL8pp70Ys58KgcMIFdmbgz8euO5_qtBQV7iqMTX-u_OTQjLt2aUNhPAf9_gmWceY31aHOSvYWBBAtBDdaOdrQx-DRv3K0iNQr0IzC-0H1oZEWj0svfWRIlOg/file\n",
      "Resolving uc62e2a168e673cb8801cb791c92.dl.dropboxusercontent.com (uc62e2a168e673cb8801cb791c92.dl.dropboxusercontent.com)... 162.125.4.15, 2620:100:6019:15::a27d:40f\n",
      "Connecting to uc62e2a168e673cb8801cb791c92.dl.dropboxusercontent.com (uc62e2a168e673cb8801cb791c92.dl.dropboxusercontent.com)|162.125.4.15|:443... connected.\n",
      "HTTP request sent, awaiting response... 302 Found\n",
      "Location: /cd/0/inline2/B0wn91_lGGxigR7diGiOeHUvY2VHsijElWLfD9rAOLL3w2VhE3_DR_l338MoqpOhHatsFevoAhC44JhHwsh2n1llDANgPyauCCUuKEVOKpea4k2nnngSznA7TMR-k3Zh5n-XzDJ6v-7wLWqm23C05j3bbTw4CM3a1QISei5bj6zRaNnPvH963Y8S-gfNfFkyHhaWmKoVGDkFDpl5e9QuuknSae3ZEeBlvtky3Xq-jpWeZ0xfKpKUl_a5lC_jYrws7N8Nh2BYAO22yZFXy-8YbocLrYBZZxy5Bvy0RyDf0ruWpsdDTM_21edRD87rH0kO2y4o1qA6fox9CQk7IbaJjmzR4_8pFo-alp8sP1aQHUVdSlkXcUnTh6cLhy5StAXVyLznyvEn2QdNAkxSc5mrCiMvoC_lVJ6XyjYpcIu3Qjod7Q/file [following]\n",
      "--2023-01-18 09:58:35--  https://uc62e2a168e673cb8801cb791c92.dl.dropboxusercontent.com/cd/0/inline2/B0wn91_lGGxigR7diGiOeHUvY2VHsijElWLfD9rAOLL3w2VhE3_DR_l338MoqpOhHatsFevoAhC44JhHwsh2n1llDANgPyauCCUuKEVOKpea4k2nnngSznA7TMR-k3Zh5n-XzDJ6v-7wLWqm23C05j3bbTw4CM3a1QISei5bj6zRaNnPvH963Y8S-gfNfFkyHhaWmKoVGDkFDpl5e9QuuknSae3ZEeBlvtky3Xq-jpWeZ0xfKpKUl_a5lC_jYrws7N8Nh2BYAO22yZFXy-8YbocLrYBZZxy5Bvy0RyDf0ruWpsdDTM_21edRD87rH0kO2y4o1qA6fox9CQk7IbaJjmzR4_8pFo-alp8sP1aQHUVdSlkXcUnTh6cLhy5StAXVyLznyvEn2QdNAkxSc5mrCiMvoC_lVJ6XyjYpcIu3Qjod7Q/file\n",
      "Reusing existing connection to uc62e2a168e673cb8801cb791c92.dl.dropboxusercontent.com:443.\n",
      "HTTP request sent, awaiting response... 200 OK\n",
      "Length: 2191872 (2.1M) [application/zip]\n",
      "Saving to: ‘train_cut.zip’\n",
      "\n",
      "train_cut.zip       100%[===================>]   2.09M  --.-KB/s    in 0.05s   \n",
      "\n",
      "2023-01-18 09:58:36 (42.4 MB/s) - ‘train_cut.zip’ saved [2191872/2191872]\n",
      "\n"
     ]
    }
   ]
  },
  {
   "cell_type": "code",
   "metadata": {
    "colab": {
     "base_uri": "https://localhost:8080/"
    },
    "id": "ZoQ0V8RXzw-y",
    "outputId": "562e025c-af04-4be8-f7cf-a0e7ef6249f8",
    "pycharm": {
     "is_executing": true
    },
    "executionInfo": {
     "status": "ok",
     "timestamp": 1674035921304,
     "user_tz": -180,
     "elapsed": 2537,
     "user": {
      "displayName": "Svetlana S",
      "userId": "16945885596612037336"
     }
    }
   },
   "source": [
    "!wget https://www.dropbox.com/s/p7kniyf6fige4eq/test_cut.zip?dl=0 -O test_cut.zip"
   ],
   "execution_count": 3,
   "outputs": [
    {
     "output_type": "stream",
     "name": "stdout",
     "text": [
      "--2023-01-18 09:58:38--  https://www.dropbox.com/s/p7kniyf6fige4eq/test_cut.zip?dl=0\n",
      "Resolving www.dropbox.com (www.dropbox.com)... 162.125.80.18, 2620:100:601c:18::a27d:612\n",
      "Connecting to www.dropbox.com (www.dropbox.com)|162.125.80.18|:443... connected.\n",
      "HTTP request sent, awaiting response... 302 Found\n",
      "Location: /s/raw/p7kniyf6fige4eq/test_cut.zip [following]\n",
      "--2023-01-18 09:58:39--  https://www.dropbox.com/s/raw/p7kniyf6fige4eq/test_cut.zip\n",
      "Reusing existing connection to www.dropbox.com:443.\n",
      "HTTP request sent, awaiting response... 302 Found\n",
      "Location: https://uc9210f96b8ba6f59ead4b5d3d27.dl.dropboxusercontent.com/cd/0/inline/B0z-FXbzX9Ip63c9BdsZdLYvDLGGZEM6d1tGcfmSLgPqrasOo4q5taiN_v_ehEweIAnYvHX7a9kvNthg_pGb7kAOdsie2_H_hoWYBpejN7hzmdie2MdECArA0pfNaAVeiWyX2gf8NUfwOr_ujy9XF_CzW9jh_iFwptTjbWvo_QqYrQ/file# [following]\n",
      "--2023-01-18 09:58:40--  https://uc9210f96b8ba6f59ead4b5d3d27.dl.dropboxusercontent.com/cd/0/inline/B0z-FXbzX9Ip63c9BdsZdLYvDLGGZEM6d1tGcfmSLgPqrasOo4q5taiN_v_ehEweIAnYvHX7a9kvNthg_pGb7kAOdsie2_H_hoWYBpejN7hzmdie2MdECArA0pfNaAVeiWyX2gf8NUfwOr_ujy9XF_CzW9jh_iFwptTjbWvo_QqYrQ/file\n",
      "Resolving uc9210f96b8ba6f59ead4b5d3d27.dl.dropboxusercontent.com (uc9210f96b8ba6f59ead4b5d3d27.dl.dropboxusercontent.com)... 162.125.4.15, 2620:100:6030:15::a27d:500f\n",
      "Connecting to uc9210f96b8ba6f59ead4b5d3d27.dl.dropboxusercontent.com (uc9210f96b8ba6f59ead4b5d3d27.dl.dropboxusercontent.com)|162.125.4.15|:443... connected.\n",
      "HTTP request sent, awaiting response... 302 Found\n",
      "Location: /cd/0/inline2/B0xDgn2m80Uev82a0BaPujYIK1OgJbBX6XyoUI0b1ksn8R8bnAeide-7PhVVBiBxUC-Aa37iOIkX9ujWPgCDVtkLIF_sOcz3WOKxIJ4LhrAv14UUCpRsmTtt-vEfs-cR2AqkbrivHm_YUT1jeswDDwf96igrZHEp9zpmYZbodHSj8i7kyqRpEY4j_qXsN9btn7RaGiyol11hl8INLLHnuSl27iXV4KCvJS_nqjZXGPOsqxEmYgIaMwmW3o-_6SGrKPjJ02WS9H5SKRlFIH5MmnTlLNWtba6vJq3Ec8YNpiMAuxNJa4kZwYVyClHA7Re3tQ_tBbBPZYSvioyHdxEuLi4D3oyXf_CIBetmoR8uZ39hRCf6s-AuKLy3HWex2qszLI-qOORSMZrOqvZxaCjvRbis-qI3wfJoKG6P-NxRNI8bkg/file [following]\n",
      "--2023-01-18 09:58:40--  https://uc9210f96b8ba6f59ead4b5d3d27.dl.dropboxusercontent.com/cd/0/inline2/B0xDgn2m80Uev82a0BaPujYIK1OgJbBX6XyoUI0b1ksn8R8bnAeide-7PhVVBiBxUC-Aa37iOIkX9ujWPgCDVtkLIF_sOcz3WOKxIJ4LhrAv14UUCpRsmTtt-vEfs-cR2AqkbrivHm_YUT1jeswDDwf96igrZHEp9zpmYZbodHSj8i7kyqRpEY4j_qXsN9btn7RaGiyol11hl8INLLHnuSl27iXV4KCvJS_nqjZXGPOsqxEmYgIaMwmW3o-_6SGrKPjJ02WS9H5SKRlFIH5MmnTlLNWtba6vJq3Ec8YNpiMAuxNJa4kZwYVyClHA7Re3tQ_tBbBPZYSvioyHdxEuLi4D3oyXf_CIBetmoR8uZ39hRCf6s-AuKLy3HWex2qszLI-qOORSMZrOqvZxaCjvRbis-qI3wfJoKG6P-NxRNI8bkg/file\n",
      "Reusing existing connection to uc9210f96b8ba6f59ead4b5d3d27.dl.dropboxusercontent.com:443.\n",
      "HTTP request sent, awaiting response... 200 OK\n",
      "Length: 2100221 (2.0M) [application/zip]\n",
      "Saving to: ‘test_cut.zip’\n",
      "\n",
      "test_cut.zip        100%[===================>]   2.00M  --.-KB/s    in 0.05s   \n",
      "\n",
      "2023-01-18 09:58:40 (38.7 MB/s) - ‘test_cut.zip’ saved [2100221/2100221]\n",
      "\n"
     ]
    }
   ]
  },
  {
   "cell_type": "code",
   "metadata": {
    "id": "LmTiycULJBV9",
    "colab": {
     "base_uri": "https://localhost:8080/"
    },
    "outputId": "1cd43dd8-9674-463e-f652-df782d153a72",
    "pycharm": {
     "is_executing": true
    },
    "executionInfo": {
     "status": "ok",
     "timestamp": 1674035924114,
     "user_tz": -180,
     "elapsed": 238,
     "user": {
      "displayName": "Svetlana S",
      "userId": "16945885596612037336"
     }
    }
   },
   "source": [
    "!ls"
   ],
   "execution_count": 4,
   "outputs": [
    {
     "output_type": "stream",
     "name": "stdout",
     "text": [
      "sample_data  test_cut.zip  train_cut.zip\n"
     ]
    }
   ]
  },
  {
   "cell_type": "code",
   "metadata": {
    "id": "MNbpcin0JDQ9",
    "executionInfo": {
     "status": "ok",
     "timestamp": 1674035942184,
     "user_tz": -180,
     "elapsed": 579,
     "user": {
      "displayName": "Svetlana S",
      "userId": "16945885596612037336"
     }
    }
   },
   "source": [
    "!unzip -q train_cut.zip"
   ],
   "execution_count": 6,
   "outputs": []
  },
  {
   "cell_type": "code",
   "metadata": {
    "id": "BXlavLxtJbg9",
    "colab": {
     "base_uri": "https://localhost:8080/"
    },
    "outputId": "22aa1adc-914f-47d5-a01e-d3d3c573c6b8",
    "executionInfo": {
     "status": "ok",
     "timestamp": 1674035952078,
     "user_tz": -180,
     "elapsed": 211,
     "user": {
      "displayName": "Svetlana S",
      "userId": "16945885596612037336"
     }
    }
   },
   "source": [
    "!ls train_cut"
   ],
   "execution_count": 7,
   "outputs": [
    {
     "output_type": "stream",
     "name": "stdout",
     "text": [
      "green  red\n"
     ]
    }
   ]
  },
  {
   "cell_type": "code",
   "metadata": {
    "id": "_xPKDP1a0GY1",
    "executionInfo": {
     "status": "ok",
     "timestamp": 1674035964671,
     "user_tz": -180,
     "elapsed": 357,
     "user": {
      "displayName": "Svetlana S",
      "userId": "16945885596612037336"
     }
    }
   },
   "source": [
    "!unzip -q test_cut.zip"
   ],
   "execution_count": 8,
   "outputs": []
  },
  {
   "cell_type": "code",
   "metadata": {
    "colab": {
     "base_uri": "https://localhost:8080/"
    },
    "id": "7ZAvRnzw0Nlc",
    "outputId": "75c32467-ffde-4fa4-9521-ac9b671d1c46",
    "executionInfo": {
     "status": "ok",
     "timestamp": 1674035971402,
     "user_tz": -180,
     "elapsed": 356,
     "user": {
      "displayName": "Svetlana S",
      "userId": "16945885596612037336"
     }
    }
   },
   "source": [
    "!ls test_cut"
   ],
   "execution_count": 9,
   "outputs": [
    {
     "output_type": "stream",
     "name": "stdout",
     "text": [
      "green  red\n"
     ]
    }
   ]
  },
  {
   "cell_type": "code",
   "source": [
    "train_path='train_cut'\n",
    "test_path='test_cut'"
   ],
   "metadata": {
    "id": "gBr2CHOOVBRK",
    "executionInfo": {
     "status": "ok",
     "timestamp": 1674036181396,
     "user_tz": -180,
     "elapsed": 225,
     "user": {
      "displayName": "Svetlana S",
      "userId": "16945885596612037336"
     }
    }
   },
   "execution_count": 13,
   "outputs": []
  },
  {
   "cell_type": "markdown",
   "metadata": {
    "id": "sBtxTfArJmo1"
   },
   "source": [
    "Смотрим примеры картинок"
   ]
  },
  {
   "cell_type": "code",
   "metadata": {
    "id": "a3g5TG9_Joct",
    "colab": {
     "base_uri": "https://localhost:8080/",
     "height": 268
    },
    "outputId": "008750bc-187d-4a6e-d7b8-e802cc8be847",
    "pycharm": {
     "is_executing": true
    },
    "executionInfo": {
     "status": "ok",
     "timestamp": 1674036183098,
     "user_tz": -180,
     "elapsed": 251,
     "user": {
      "displayName": "Svetlana S",
      "userId": "16945885596612037336"
     }
    }
   },
   "source": [
    "img_path = f'{train_path}/red/ds1_pic1349.jpg'\n",
    "img = image.load_img(img_path)\n",
    "plt.imshow(img)\n",
    "plt.show()"
   ],
   "execution_count": 14,
   "outputs": [
    {
     "output_type": "display_data",
     "data": {
      "text/plain": [
       "<Figure size 432x288 with 1 Axes>"
      ],
      "image/png": "[encoded data removed]"
     },
     "metadata": {
      "needs_background": "light"
     }
    }
   ]
  },
  {
   "cell_type": "markdown",
   "metadata": {
    "id": "VSOoZ5WQg93t"
   },
   "source": [
    "## Создаем наборы данных"
   ]
  },
  {
   "cell_type": "markdown",
   "metadata": {
    "id": "0rZACWwwhHK6"
   },
   "source": [
    "Набор данных для обучения"
   ]
  },
  {
   "cell_type": "code",
   "metadata": {
    "colab": {
     "base_uri": "https://localhost:8080/"
    },
    "id": "_c87nc2hhBbt",
    "outputId": "a28d07db-f68f-4ca3-b2d2-5c8fba2eb384",
    "pycharm": {
     "is_executing": true
    },
    "executionInfo": {
     "status": "ok",
     "timestamp": 1674036434806,
     "user_tz": -180,
     "elapsed": 3206,
     "user": {
      "displayName": "Svetlana S",
      "userId": "16945885596612037336"
     }
    }
   },
   "source": [
    "train_dataset = image_dataset_from_directory(f'{train_path}',\n",
    "                                             batch_size=128,\n",
    "                                             image_size=(224, 224))"
   ],
   "execution_count": 16,
   "outputs": [
    {
     "output_type": "stream",
     "name": "stdout",
     "text": [
      "Found 2000 files belonging to 2 classes.\n"
     ]
    }
   ]
  },
  {
   "cell_type": "code",
   "metadata": {
    "id": "9yb30gBCvd2Q",
    "executionInfo": {
     "status": "ok",
     "timestamp": 1674036438616,
     "user_tz": -180,
     "elapsed": 231,
     "user": {
      "displayName": "Svetlana S",
      "userId": "16945885596612037336"
     }
    }
   },
   "source": [
    "class_names = train_dataset.class_names"
   ],
   "execution_count": 17,
   "outputs": []
  },
  {
   "cell_type": "code",
   "metadata": {
    "colab": {
     "base_uri": "https://localhost:8080/"
    },
    "id": "NEHSKie1ve1A",
    "outputId": "dbcdb29a-46df-45d6-e351-6574840fca85",
    "pycharm": {
     "is_executing": true
    },
    "executionInfo": {
     "status": "ok",
     "timestamp": 1674036441455,
     "user_tz": -180,
     "elapsed": 218,
     "user": {
      "displayName": "Svetlana S",
      "userId": "16945885596612037336"
     }
    }
   },
   "source": [
    "class_names"
   ],
   "execution_count": 18,
   "outputs": [
    {
     "output_type": "execute_result",
     "data": {
      "text/plain": [
       "['green', 'red']"
      ]
     },
     "metadata": {},
     "execution_count": 18
    }
   ]
  },
  {
   "cell_type": "markdown",
   "metadata": {
    "id": "rN0z8OQt0Vbd"
   },
   "source": [
    "Набор данных для тестирования"
   ]
  },
  {
   "cell_type": "code",
   "metadata": {
    "colab": {
     "base_uri": "https://localhost:8080/"
    },
    "id": "O4-KCxNY0YY8",
    "outputId": "8b5d1aa0-3704-4336-9d2b-daeb5704957e",
    "pycharm": {
     "is_executing": true
    },
    "executionInfo": {
     "status": "ok",
     "timestamp": 1674036444828,
     "user_tz": -180,
     "elapsed": 227,
     "user": {
      "displayName": "Svetlana S",
      "userId": "16945885596612037336"
     }
    }
   },
   "source": [
    "test_dataset = image_dataset_from_directory(f'{test_path}',\n",
    "                                             batch_size=128,\n",
    "                                             image_size=(224, 224))"
   ],
   "execution_count": 19,
   "outputs": [
    {
     "output_type": "stream",
     "name": "stdout",
     "text": [
      "Found 2000 files belonging to 2 classes.\n"
     ]
    }
   ]
  },
  {
   "cell_type": "markdown",
   "metadata": {
    "id": "FM0jbFq4iN55"
   },
   "source": [
    "## Создаем составную нейронную сеть"
   ]
  },
  {
   "cell_type": "code",
   "metadata": {
    "id": "7VKctT97iQ9V",
    "executionInfo": {
     "status": "ok",
     "timestamp": 1674036451151,
     "user_tz": -180,
     "elapsed": 249,
     "user": {
      "displayName": "Svetlana S",
      "userId": "16945885596612037336"
     }
    }
   },
   "source": [
    "img_augmentation = Sequential(\n",
    "    [\n",
    "        layers.RandomRotation(factor=0.15),\n",
    "        layers.RandomTranslation(height_factor=0.1, width_factor=0.1),\n",
    "        layers.RandomFlip(),\n",
    "        layers.RandomContrast(factor=0.1),\n",
    "    ],\n",
    "    name=\"img_augmentation\",\n",
    ")"
   ],
   "execution_count": 20,
   "outputs": []
  },
  {
   "cell_type": "code",
   "metadata": {
    "id": "oSnveNshkha0",
    "colab": {
     "base_uri": "https://localhost:8080/"
    },
    "outputId": "a400e705-33bf-4f0c-bb11-13dddc436137",
    "pycharm": {
     "is_executing": true
    },
    "executionInfo": {
     "status": "ok",
     "timestamp": 1674036458253,
     "user_tz": -180,
     "elapsed": 4404,
     "user": {
      "displayName": "Svetlana S",
      "userId": "16945885596612037336"
     }
    }
   },
   "source": [
    "inputs = layers.Input(shape=(224, 224, 3))\n",
    "x = img_augmentation(inputs)\n",
    "model = EfficientNetB0(include_top=False, input_tensor=x, weights=\"imagenet\")\n",
    "\n",
    "# Freeze the pretrained weights\n",
    "model.trainable = False\n",
    "\n",
    "# Rebuild top\n",
    "x = layers.GlobalAveragePooling2D(name=\"avg_pool\")(model.output)\n",
    "x = layers.BatchNormalization()(x)\n",
    "\n",
    "top_dropout_rate = 0.2\n",
    "x = layers.Dropout(top_dropout_rate, name=\"top_dropout\")(x)\n",
    "# Для задачи с двумя классами изображений\n",
    "outputs = layers.Dense(1, activation=\"sigmoid\", name=\"pred\")(x)\n",
    "# Для задачи с несколькими классами изображений\n",
    "# num_classes = 3 # Задаем количество классов\n",
    "# outputs = layers.Dense(num_classes, activation=\"softmax\", name=\"pred\")(x)\n",
    "model = tf.keras.Model(inputs, outputs, name=\"EfficientNet\")"
   ],
   "execution_count": 21,
   "outputs": [
    {
     "output_type": "stream",
     "name": "stderr",
     "text": [
      "WARNING:tensorflow:Using a while_loop for converting RngReadAndSkip\n",
      "WARNING:tensorflow:Using a while_loop for converting Bitcast\n",
      "WARNING:tensorflow:Using a while_loop for converting Bitcast\n",
      "WARNING:tensorflow:Using a while_loop for converting StatelessRandomUniformV2\n",
      "WARNING:tensorflow:Using a while_loop for converting RngReadAndSkip\n",
      "WARNING:tensorflow:Using a while_loop for converting Bitcast\n",
      "WARNING:tensorflow:Using a while_loop for converting Bitcast\n",
      "WARNING:tensorflow:Using a while_loop for converting StatelessRandomUniformV2\n",
      "WARNING:tensorflow:Using a while_loop for converting ImageProjectiveTransformV3\n",
      "WARNING:tensorflow:Using a while_loop for converting RngReadAndSkip\n",
      "WARNING:tensorflow:Using a while_loop for converting Bitcast\n",
      "WARNING:tensorflow:Using a while_loop for converting Bitcast\n",
      "WARNING:tensorflow:Using a while_loop for converting StatelessRandomUniformFullIntV2\n",
      "WARNING:tensorflow:Using a while_loop for converting StatelessRandomGetKeyCounter\n",
      "WARNING:tensorflow:Using a while_loop for converting StatelessRandomUniformV2\n",
      "WARNING:tensorflow:Using a while_loop for converting AdjustContrastv2\n",
      "WARNING:tensorflow:Using a while_loop for converting RngReadAndSkip\n",
      "WARNING:tensorflow:Using a while_loop for converting Bitcast\n",
      "WARNING:tensorflow:Using a while_loop for converting Bitcast\n",
      "WARNING:tensorflow:Using a while_loop for converting StatelessRandomUniformV2\n",
      "WARNING:tensorflow:Using a while_loop for converting RngReadAndSkip\n",
      "WARNING:tensorflow:Using a while_loop for converting Bitcast\n",
      "WARNING:tensorflow:Using a while_loop for converting Bitcast\n",
      "WARNING:tensorflow:Using a while_loop for converting StatelessRandomUniformV2\n",
      "WARNING:tensorflow:Using a while_loop for converting ImageProjectiveTransformV3\n",
      "WARNING:tensorflow:Using a while_loop for converting RngReadAndSkip\n",
      "WARNING:tensorflow:Using a while_loop for converting Bitcast\n",
      "WARNING:tensorflow:Using a while_loop for converting Bitcast\n",
      "WARNING:tensorflow:Using a while_loop for converting StatelessRandomUniformFullIntV2\n",
      "WARNING:tensorflow:Using a while_loop for converting StatelessRandomGetKeyCounter\n",
      "WARNING:tensorflow:Using a while_loop for converting StatelessRandomUniformV2\n",
      "WARNING:tensorflow:Using a while_loop for converting AdjustContrastv2\n"
     ]
    },
    {
     "output_type": "stream",
     "name": "stdout",
     "text": [
      "Downloading data from https://storage.googleapis.com/keras-applications/efficientnetb0_notop.h5\n",
      "16705208/16705208 [==============================] - 0s 0us/step\n"
     ]
    }
   ]
  },
  {
   "cell_type": "markdown",
   "metadata": {
    "id": "Ei5qQXtjZeuQ"
   },
   "source": [
    "Компилируем составную нейронную сеть"
   ]
  },
  {
   "cell_type": "code",
   "metadata": {
    "id": "DeKT__ZeZeDS",
    "executionInfo": {
     "status": "ok",
     "timestamp": 1674036472720,
     "user_tz": -180,
     "elapsed": 228,
     "user": {
      "displayName": "Svetlana S",
      "userId": "16945885596612037336"
     }
    }
   },
   "source": [
    "# Для задачи с двумя классами изображений\n",
    "model.compile(loss='binary_crossentropy',\n",
    "              optimizer='adam', \n",
    "              metrics=['accuracy'])\n",
    "# Для задачи с несколькими классами изображений\n",
    "# model.compile(loss='categorical_crossentropy',\n",
    "#              optimizer='adam', \n",
    "#              metrics=['accuracy'])"
   ],
   "execution_count": 22,
   "outputs": []
  },
  {
   "cell_type": "markdown",
   "metadata": {
    "id": "3WqAoWQSbNY_"
   },
   "source": [
    "## Обучаем сеть"
   ]
  },
  {
   "cell_type": "code",
   "metadata": {
    "id": "vVuZxS7MbQNQ",
    "colab": {
     "base_uri": "https://localhost:8080/"
    },
    "outputId": "91ba0fef-3fb2-438d-9d08-a82bc60cfcdb",
    "pycharm": {
     "is_executing": true
    }
   },
   "source": [
    "history = model.fit(train_dataset,\n",
    "                    epochs=10)"
   ],
   "execution_count": null,
   "outputs": [
    {
     "output_type": "stream",
     "name": "stdout",
     "text": [
      "Epoch 1/10\n"
     ]
    },
    {
     "output_type": "stream",
     "name": "stderr",
     "text": [
      "WARNING:tensorflow:Using a while_loop for converting RngReadAndSkip\n",
      "WARNING:tensorflow:Using a while_loop for converting Bitcast\n",
      "WARNING:tensorflow:Using a while_loop for converting Bitcast\n",
      "WARNING:tensorflow:Using a while_loop for converting StatelessRandomUniformV2\n",
      "WARNING:tensorflow:Using a while_loop for converting RngReadAndSkip\n",
      "WARNING:tensorflow:Using a while_loop for converting Bitcast\n",
      "WARNING:tensorflow:Using a while_loop for converting Bitcast\n",
      "WARNING:tensorflow:Using a while_loop for converting StatelessRandomUniformV2\n",
      "WARNING:tensorflow:Using a while_loop for converting ImageProjectiveTransformV3\n",
      "WARNING:tensorflow:Using a while_loop for converting RngReadAndSkip\n",
      "WARNING:tensorflow:Using a while_loop for converting Bitcast\n",
      "WARNING:tensorflow:Using a while_loop for converting Bitcast\n",
      "WARNING:tensorflow:Using a while_loop for converting StatelessRandomUniformFullIntV2\n",
      "WARNING:tensorflow:Using a while_loop for converting StatelessRandomGetKeyCounter\n",
      "WARNING:tensorflow:Using a while_loop for converting StatelessRandomUniformV2\n",
      "WARNING:tensorflow:Using a while_loop for converting AdjustContrastv2\n",
      "WARNING:tensorflow:Using a while_loop for converting RngReadAndSkip\n",
      "WARNING:tensorflow:Using a while_loop for converting Bitcast\n",
      "WARNING:tensorflow:Using a while_loop for converting Bitcast\n",
      "WARNING:tensorflow:Using a while_loop for converting StatelessRandomUniformV2\n",
      "WARNING:tensorflow:Using a while_loop for converting RngReadAndSkip\n",
      "WARNING:tensorflow:Using a while_loop for converting Bitcast\n",
      "WARNING:tensorflow:Using a while_loop for converting Bitcast\n",
      "WARNING:tensorflow:Using a while_loop for converting StatelessRandomUniformV2\n",
      "WARNING:tensorflow:Using a while_loop for converting ImageProjectiveTransformV3\n",
      "WARNING:tensorflow:Using a while_loop for converting RngReadAndSkip\n",
      "WARNING:tensorflow:Using a while_loop for converting Bitcast\n",
      "WARNING:tensorflow:Using a while_loop for converting Bitcast\n",
      "WARNING:tensorflow:Using a while_loop for converting StatelessRandomUniformFullIntV2\n",
      "WARNING:tensorflow:Using a while_loop for converting StatelessRandomGetKeyCounter\n",
      "WARNING:tensorflow:Using a while_loop for converting StatelessRandomUniformV2\n",
      "WARNING:tensorflow:Using a while_loop for converting AdjustContrastv2\n"
     ]
    },
    {
     "output_type": "stream",
     "name": "stdout",
     "text": [
      "16/16 [==============================] - 53s 2s/step - loss: 0.5750 - accuracy: 0.7240\n",
      "Epoch 2/10\n",
      "16/16 [==============================] - 34s 2s/step - loss: 0.2491 - accuracy: 0.9060\n",
      "Epoch 3/10\n",
      " 6/16 [==========>...................] - ETA: 21s - loss: 0.1714 - accuracy: 0.9414"
     ]
    }
   ]
  },
  {
   "cell_type": "markdown",
   "metadata": {
    "id": "EUmjkgVfED5F"
   },
   "source": [
    "Проверяем качество обучения на тестовом наборе данных\n"
   ]
  },
  {
   "cell_type": "code",
   "metadata": {
    "id": "VTbj27FSdaey",
    "pycharm": {
     "is_executing": true
    }
   },
   "source": [
    "scores = model.evaluate(test_dataset, verbose=1)"
   ],
   "execution_count": null,
   "outputs": []
  },
  {
   "cell_type": "code",
   "metadata": {
    "id": "Wsnp3qxl01e5",
    "pycharm": {
     "is_executing": true
    }
   },
   "source": [
    "print(\"Доля верных ответов на тестовых данных, в процентах:\", round(scores[1] * 100, 4))"
   ],
   "execution_count": null,
   "outputs": []
  },
  {
   "cell_type": "markdown",
   "metadata": {
    "id": "nophkWccubGB"
   },
   "source": [
    "## Использование нейронной сети для распознавания изображений\n",
    "\n",
    "Вспоминаем номера классов"
   ]
  },
  {
   "cell_type": "code",
   "metadata": {
    "id": "e7PW4N8UwVNw",
    "pycharm": {
     "is_executing": true
    }
   },
   "source": [
    "class_names"
   ],
   "execution_count": null,
   "outputs": []
  },
  {
   "cell_type": "markdown",
   "metadata": {
    "id": "p3aLt3QbwcLA"
   },
   "source": [
    "Загружаем изображение из файла"
   ]
  },
  {
   "cell_type": "code",
   "metadata": {
    "colab": {
     "base_uri": "https://localhost:8080/",
     "height": 269
    },
    "id": "dp6mVVX6ugSF",
    "outputId": "979ff5ec-d727-4550-ac60-cec9f4b37172",
    "pycharm": {
     "is_executing": true
    },
    "executionInfo": {
     "status": "ok",
     "timestamp": 1674036405176,
     "user_tz": -180,
     "elapsed": 381,
     "user": {
      "displayName": "Svetlana S",
      "userId": "16945885596612037336"
     }
    }
   },
   "source": [
    "img_path = f'{test_path}/red/ds1_pic1147.jpg'\n",
    "img = image.load_img(img_path, target_size=(224, 224))\n",
    "plt.imshow(img)\n",
    "plt.show()"
   ],
   "execution_count": 15,
   "outputs": [
    {
     "output_type": "display_data",
     "data": {
      "text/plain": [
       "<Figure size 432x288 with 1 Axes>"
      ],
      "image/png": "[encoded data removed]"
     },
     "metadata": {
      "needs_background": "light"
     }
    }
   ]
  },
  {
   "cell_type": "markdown",
   "metadata": {
    "id": "aX_xkm0IwgMs"
   },
   "source": [
    "Преобразуем изображение в массив"
   ]
  },
  {
   "cell_type": "code",
   "metadata": {
    "id": "eREEib0PvBR4"
   },
   "source": [
    "x = image.img_to_array(img)\n",
    "x = np.expand_dims(x, axis=0)"
   ],
   "execution_count": null,
   "outputs": []
  },
  {
   "cell_type": "markdown",
   "metadata": {
    "id": "-QfoEfaOwi95"
   },
   "source": [
    "Запускаем распознавание"
   ]
  },
  {
   "cell_type": "code",
   "metadata": {
    "id": "4YXiKNa2vFjk",
    "pycharm": {
     "is_executing": true
    }
   },
   "source": [
    "prediction = model.predict(x)"
   ],
   "execution_count": null,
   "outputs": []
  },
  {
   "cell_type": "markdown",
   "metadata": {
    "id": "CD10884AwlhX"
   },
   "source": [
    "Печатаем результаты распознавания"
   ]
  },
  {
   "cell_type": "code",
   "metadata": {
    "colab": {
     "base_uri": "https://localhost:8080/"
    },
    "id": "iZm5X7hKvI40",
    "outputId": "f0729734-f44a-4593-ba20-213d29019e19"
   },
   "source": [
    "prediction\n"
   ],
   "execution_count": null,
   "outputs": [
    {
     "output_type": "execute_result",
     "data": {
      "text/plain": [
       "array([[0.9814932]], dtype=float32)"
      ]
     },
     "metadata": {},
     "execution_count": 26
    }
   ]
  }
 ]
}
