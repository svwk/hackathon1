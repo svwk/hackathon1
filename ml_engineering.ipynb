{
 "nbformat": 4,
 "nbformat_minor": 0,
 "metadata": {
  "colab": {
   "provenance": []
  },
  "kernelspec": {
   "name": "python3",
   "display_name": "Python 3"
  },
  "accelerator": "GPU"
 },
 "cells": [
  {
   "cell_type": "markdown",
   "metadata": {
    "id": "hbf8UxqyDTrw"
   },
   "source": [
    "## Детектирование сигнала светофора\n",
    "\n",
    "Проект направлен на обнаружение сигнала светофора с использованием машинного обучения\n",
    "Задачи:\n",
    "- Обнаружение красного (круглого) сигнала в дневное время\n",
    "- Обнаружение желтого (круглого) сигнала в дневное время\n",
    "- Обнаружение зеленого (круглого) сигнала в дневное время\n",
    "- Детектирование отсутствия светофора в дневное время\n",
    "\n",
    "Для проекта используются следующие датасеты:\n",
    "- тренировочный (4 датасета: red, yellow, green, empty - без светофора)\n",
    "-  тестовый  (4 датасета: red, yellow, green, empty - без светофора)\n",
    "\n",
    "Каждый датасет представляет собой набор изображений с трехсекционным светофором в дневное время (для набора empty - без светофора в дневное время)."
   ]
  },
  {
   "cell_type": "code",
   "metadata": {
    "id": "J-9dE2J4DJM0"
   },
   "source": [
    "import os\n",
    "import numpy as np\n",
    "import tensorflow as tf\n",
    "from tensorflow.keras.models import Sequential\n",
    "from tensorflow.keras import layers\n",
    "from tensorflow.keras import utils\n",
    "from tensorflow.keras.applications import EfficientNetV2B0\n",
    "from tensorflow.keras.preprocessing import image\n",
    "from tensorflow.keras.preprocessing import image_dataset_from_directory\n",
    "import matplotlib.pyplot as plt\n",
    "from google.colab import files\n",
    "%matplotlib inline "
   ],
   "execution_count": 59,
   "outputs": []
  },
  {
   "cell_type": "markdown",
   "metadata": {
    "id": "xW1S04zYCPtc"
   },
   "source": [
    "## Загружаем данные"
   ]
  },
  {
   "cell_type": "code",
   "metadata": {
    "id": "aUmBByJl_nGX",
    "colab": {
     "base_uri": "https://localhost:8080/"
    },
    "outputId": "9e9428f6-4e8b-4094-b8fc-2c7bd4553f04",
    "pycharm": {
     "is_executing": true
    }
   },
   "source": [
    "!wget https://www.dropbox.com/s/o56f33f9zopni4z/train.zip?dl=0  -O train.zip"
   ],
   "execution_count": 60,
   "outputs": [
    {
     "output_type": "stream",
     "name": "stdout",
     "text": [
      "--2023-01-20 14:16:21--  https://www.dropbox.com/s/o56f33f9zopni4z/train.zip?dl=0\n",
      "Resolving www.dropbox.com (www.dropbox.com)... 162.125.1.18, 2620:100:6016:18::a27d:112\n",
      "Connecting to www.dropbox.com (www.dropbox.com)|162.125.1.18|:443... connected.\n",
      "HTTP request sent, awaiting response... 302 Found\n",
      "Location: /s/raw/o56f33f9zopni4z/train.zip [following]\n",
      "--2023-01-20 14:16:21--  https://www.dropbox.com/s/raw/o56f33f9zopni4z/train.zip\n",
      "Reusing existing connection to www.dropbox.com:443.\n",
      "HTTP request sent, awaiting response... 302 Found\n",
      "Location: https://uc37bb182c8d95938b7488330fcb.dl.dropboxusercontent.com/cd/0/inline/B079S4H66tblEiY9nM0FpyoPVJV4WfOiYndmXHoaihzlq8DDS4WUQjvKc0o3rKlFXcfP955pMvZG_k2q0sjpQkN2vuUO2g1DNY5eq7nndKiQqCz3OHSApy4_QYM4rffB_DCwv9vXhdj2pn4czJiadhesKG2bGUYUojC34WTHb4JNKw/file# [following]\n",
      "--2023-01-20 14:16:21--  https://uc37bb182c8d95938b7488330fcb.dl.dropboxusercontent.com/cd/0/inline/B079S4H66tblEiY9nM0FpyoPVJV4WfOiYndmXHoaihzlq8DDS4WUQjvKc0o3rKlFXcfP955pMvZG_k2q0sjpQkN2vuUO2g1DNY5eq7nndKiQqCz3OHSApy4_QYM4rffB_DCwv9vXhdj2pn4czJiadhesKG2bGUYUojC34WTHb4JNKw/file\n",
      "Resolving uc37bb182c8d95938b7488330fcb.dl.dropboxusercontent.com (uc37bb182c8d95938b7488330fcb.dl.dropboxusercontent.com)... 162.125.1.15, 2620:100:6016:15::a27d:10f\n",
      "Connecting to uc37bb182c8d95938b7488330fcb.dl.dropboxusercontent.com (uc37bb182c8d95938b7488330fcb.dl.dropboxusercontent.com)|162.125.1.15|:443... connected.\n",
      "HTTP request sent, awaiting response... 302 Found\n",
      "Location: /cd/0/inline2/B05FMj8tJi5IwSoUaYqGkRN_mwQUqx8jk16D10FR6Ljhcz8WNLC8M4ETK3shUPrhN-McoUTakEKuik-Ose-jzEoxXGz8AYjHAJEJFBz1W1kmfLec_VqBFcMPKAiy0_sBaErZLvY1TEBpTLAMvCZf113s39L6xp6KSpQxhvTRYciBk39SRgZ0XcxO_p-s_3l4SvfVkfSQTI_QybJgehD9ADp2-uIGFVUkWyR8ANI-zSbs1SUXTvfnKL_BVQq2Mcvja7-75k8xFfwVsEBKAN0FYBuobFOGRC2k828K_4dB7vdiHKQvjro5vRiKvs5zX6J2NL2ZBzBO4FlmMz3Jt9ha0hcXQieT0tlrjxPoQhU4nHaW9bieAt2gjYI9e3_XQUJssf05m71_Yn9JiglfW0SchQYKCwS8_0vHEaIMemEoBBQ_dQ/file [following]\n",
      "--2023-01-20 14:16:22--  https://uc37bb182c8d95938b7488330fcb.dl.dropboxusercontent.com/cd/0/inline2/B05FMj8tJi5IwSoUaYqGkRN_mwQUqx8jk16D10FR6Ljhcz8WNLC8M4ETK3shUPrhN-McoUTakEKuik-Ose-jzEoxXGz8AYjHAJEJFBz1W1kmfLec_VqBFcMPKAiy0_sBaErZLvY1TEBpTLAMvCZf113s39L6xp6KSpQxhvTRYciBk39SRgZ0XcxO_p-s_3l4SvfVkfSQTI_QybJgehD9ADp2-uIGFVUkWyR8ANI-zSbs1SUXTvfnKL_BVQq2Mcvja7-75k8xFfwVsEBKAN0FYBuobFOGRC2k828K_4dB7vdiHKQvjro5vRiKvs5zX6J2NL2ZBzBO4FlmMz3Jt9ha0hcXQieT0tlrjxPoQhU4nHaW9bieAt2gjYI9e3_XQUJssf05m71_Yn9JiglfW0SchQYKCwS8_0vHEaIMemEoBBQ_dQ/file\n",
      "Reusing existing connection to uc37bb182c8d95938b7488330fcb.dl.dropboxusercontent.com:443.\n",
      "HTTP request sent, awaiting response... 200 OK\n",
      "Length: 2863552 (2.7M) [application/zip]\n",
      "Saving to: ‘train.zip’\n",
      "\n",
      "train.zip           100%[===================>]   2.73M  --.-KB/s    in 0.04s   \n",
      "\n",
      "2023-01-20 14:16:22 (65.3 MB/s) - ‘train.zip’ saved [2863552/2863552]\n",
      "\n"
     ]
    }
   ]
  },
  {
   "cell_type": "code",
   "metadata": {
    "colab": {
     "base_uri": "https://localhost:8080/"
    },
    "id": "ZoQ0V8RXzw-y",
    "outputId": "dbd2e977-5d09-44b3-84bf-d649ce39402a",
    "pycharm": {
     "is_executing": true
    }
   },
   "source": [
    "!wget https://www.dropbox.com/s/45187nx5uvcddga/test.zip?dl=0 -O test.zip"
   ],
   "execution_count": 61,
   "outputs": [
    {
     "output_type": "stream",
     "name": "stdout",
     "text": [
      "--2023-01-20 14:16:41--  https://www.dropbox.com/s/45187nx5uvcddga/test.zip?dl=0\n",
      "Resolving www.dropbox.com (www.dropbox.com)... 162.125.1.18, 2620:100:6016:18::a27d:112\n",
      "Connecting to www.dropbox.com (www.dropbox.com)|162.125.1.18|:443... connected.\n",
      "HTTP request sent, awaiting response... 302 Found\n",
      "Location: /s/raw/45187nx5uvcddga/test.zip [following]\n",
      "--2023-01-20 14:16:41--  https://www.dropbox.com/s/raw/45187nx5uvcddga/test.zip\n",
      "Reusing existing connection to www.dropbox.com:443.\n",
      "HTTP request sent, awaiting response... 302 Found\n",
      "Location: https://uc84ab6677c8bdb20039674a2d69.dl.dropboxusercontent.com/cd/0/inline/B05NGzFho4ZU4nxPZ8CTFZM0VEf_tphiojD30A1blbSOXf0nc-qdLN82mmGLVEX4V3r-5KEnAKabhF0KX27MceJ1nWUGY3WaBdPBqEUm9c2GN9GsuDGFopEdWvptQYQwutRkB0v0cIpa4X-eDKGwJuM47tdnT_qBPH09Q45Ng8v2sA/file# [following]\n",
      "--2023-01-20 14:16:42--  https://uc84ab6677c8bdb20039674a2d69.dl.dropboxusercontent.com/cd/0/inline/B05NGzFho4ZU4nxPZ8CTFZM0VEf_tphiojD30A1blbSOXf0nc-qdLN82mmGLVEX4V3r-5KEnAKabhF0KX27MceJ1nWUGY3WaBdPBqEUm9c2GN9GsuDGFopEdWvptQYQwutRkB0v0cIpa4X-eDKGwJuM47tdnT_qBPH09Q45Ng8v2sA/file\n",
      "Resolving uc84ab6677c8bdb20039674a2d69.dl.dropboxusercontent.com (uc84ab6677c8bdb20039674a2d69.dl.dropboxusercontent.com)... 162.125.1.15, 2620:100:6016:15::a27d:10f\n",
      "Connecting to uc84ab6677c8bdb20039674a2d69.dl.dropboxusercontent.com (uc84ab6677c8bdb20039674a2d69.dl.dropboxusercontent.com)|162.125.1.15|:443... connected.\n",
      "HTTP request sent, awaiting response... 302 Found\n",
      "Location: /cd/0/inline2/B07DozYCLxpngHAk4iTM4qjO9fDBtiEOQmZCs_B7S9lP9soss7Zw1gm90Ys_dinvmpWm2coNYCDqDVeSxqXjrr6RrsYu1sZ9muxPYBwVXb95YFAGrwOAzINlm9LbYScjBlK-2d20rskLZ1nKbFB9WOyIv3vGr1cTrMmPDrTGMSZbXDEoh_euljxIHy-9fQBaCp3SRTHiTsbFtpbZtbVbSTSbNq5bRxkmBC4w1N7KtVklR3ZlU95LfDg54G7ukrF2EEu4EM6UybEOKNVWbBnIrye7mblrSyE4UlNZ9T3granUreTsTeN49w7sFJyR61C6rWsKyIaf7_rGSVKu-MyXqv9TiPUgOjB2BGp-bUxIhcU-mA2tkQjHO8BaMF-ec27RlypjP5REu8wssgZxEdrbYzQ0dDXdwQk2hFnd7HO6_i_qNA/file [following]\n",
      "--2023-01-20 14:16:42--  https://uc84ab6677c8bdb20039674a2d69.dl.dropboxusercontent.com/cd/0/inline2/B07DozYCLxpngHAk4iTM4qjO9fDBtiEOQmZCs_B7S9lP9soss7Zw1gm90Ys_dinvmpWm2coNYCDqDVeSxqXjrr6RrsYu1sZ9muxPYBwVXb95YFAGrwOAzINlm9LbYScjBlK-2d20rskLZ1nKbFB9WOyIv3vGr1cTrMmPDrTGMSZbXDEoh_euljxIHy-9fQBaCp3SRTHiTsbFtpbZtbVbSTSbNq5bRxkmBC4w1N7KtVklR3ZlU95LfDg54G7ukrF2EEu4EM6UybEOKNVWbBnIrye7mblrSyE4UlNZ9T3granUreTsTeN49w7sFJyR61C6rWsKyIaf7_rGSVKu-MyXqv9TiPUgOjB2BGp-bUxIhcU-mA2tkQjHO8BaMF-ec27RlypjP5REu8wssgZxEdrbYzQ0dDXdwQk2hFnd7HO6_i_qNA/file\n",
      "Reusing existing connection to uc84ab6677c8bdb20039674a2d69.dl.dropboxusercontent.com:443.\n",
      "HTTP request sent, awaiting response... 200 OK\n",
      "Length: 2827127 (2.7M) [application/zip]\n",
      "Saving to: ‘test.zip’\n",
      "\n",
      "test.zip            100%[===================>]   2.70M  --.-KB/s    in 0.05s   \n",
      "\n",
      "2023-01-20 14:16:42 (50.5 MB/s) - ‘test.zip’ saved [2827127/2827127]\n",
      "\n"
     ]
    }
   ]
  },
  {
   "cell_type": "code",
   "metadata": {
    "id": "LmTiycULJBV9",
    "colab": {
     "base_uri": "https://localhost:8080/"
    },
    "outputId": "acc55c01-0454-466f-ac14-c5b585e1b087",
    "pycharm": {
     "is_executing": true
    }
   },
   "source": [
    "!ls"
   ],
   "execution_count": 62,
   "outputs": [
    {
     "output_type": "stream",
     "name": "stdout",
     "text": [
      "sample_data  test  test.zip  train  train.zip\n"
     ]
    }
   ]
  },
  {
   "cell_type": "code",
   "metadata": {
    "id": "MNbpcin0JDQ9"
   },
   "source": [
    "!unzip -q train.zip"
   ],
   "execution_count": 64,
   "outputs": []
  },
  {
   "cell_type": "code",
   "metadata": {
    "id": "BXlavLxtJbg9",
    "colab": {
     "base_uri": "https://localhost:8080/"
    },
    "outputId": "bdd261ab-0ad7-439e-8a82-de7c243e05d1"
   },
   "source": [
    "!ls train"
   ],
   "execution_count": 65,
   "outputs": [
    {
     "output_type": "stream",
     "name": "stdout",
     "text": [
      "green  red  yellow\n"
     ]
    }
   ]
  },
  {
   "cell_type": "code",
   "metadata": {
    "id": "_xPKDP1a0GY1"
   },
   "source": [
    "!unzip -q test.zip"
   ],
   "execution_count": 66,
   "outputs": []
  },
  {
   "cell_type": "code",
   "metadata": {
    "colab": {
     "base_uri": "https://localhost:8080/"
    },
    "id": "7ZAvRnzw0Nlc",
    "outputId": "c2ca1de4-d329-4a21-d36f-be584afd8da5"
   },
   "source": [
    "!ls test"
   ],
   "execution_count": 67,
   "outputs": [
    {
     "output_type": "stream",
     "name": "stdout",
     "text": [
      "green  red  yellow\n"
     ]
    }
   ]
  },
  {
   "cell_type": "code",
   "source": [
    "train_path='train'\n",
    "test_path='test'"
   ],
   "metadata": {
    "id": "gBr2CHOOVBRK"
   },
   "execution_count": 68,
   "outputs": []
  },
  {
   "cell_type": "markdown",
   "metadata": {
    "id": "sBtxTfArJmo1"
   },
   "source": [
    "Смотрим примеры картинок"
   ]
  },
  {
   "cell_type": "code",
   "metadata": {
    "id": "a3g5TG9_Joct",
    "colab": {
     "base_uri": "https://localhost:8080/",
     "height": 269
    },
    "outputId": "1e7aee26-2657-4dea-c9a6-577d5a506767",
    "pycharm": {
     "is_executing": true
    }
   },
   "source": [
    "img_path = f'{train_path}/green/green_10.jpg'\n",
    "img = image.load_img(img_path)\n",
    "plt.imshow(img)\n",
    "plt.show()"
   ],
   "execution_count": 69,
   "outputs": [
    {
     "output_type": "display_data",
     "data": {
      "text/plain": [
       "<Figure size 432x288 with 1 Axes>"
      ],
      "image/png": "[encoded data removed]"
     },
     "metadata": {
      "needs_background": "light"
     }
    }
   ]
  },
  {
   "cell_type": "markdown",
   "metadata": {
    "id": "VSOoZ5WQg93t"
   },
   "source": [
    "## Создаем наборы данных"
   ]
  },
  {
   "cell_type": "markdown",
   "metadata": {
    "id": "0rZACWwwhHK6"
   },
   "source": [
    "Набор данных для обучения"
   ]
  },
  {
   "cell_type": "code",
   "metadata": {
    "colab": {
     "base_uri": "https://localhost:8080/"
    },
    "id": "_c87nc2hhBbt",
    "outputId": "00fe5bd7-b38e-44fa-ea2c-47223104521f",
    "pycharm": {
     "is_executing": true
    }
   },
   "source": [
    "train_dataset = image_dataset_from_directory(f'{train_path}',\n",
    "                                             batch_size=128,\n",
    "                                             image_size=(100, 50))"
   ],
   "execution_count": 70,
   "outputs": [
    {
     "output_type": "stream",
     "name": "stdout",
     "text": [
      "Found 823 files belonging to 3 classes.\n"
     ]
    }
   ]
  },
  {
   "cell_type": "code",
   "metadata": {
    "id": "9yb30gBCvd2Q"
   },
   "source": [
    "class_names = train_dataset.class_names"
   ],
   "execution_count": 71,
   "outputs": []
  },
  {
   "cell_type": "code",
   "metadata": {
    "colab": {
     "base_uri": "https://localhost:8080/"
    },
    "id": "NEHSKie1ve1A",
    "outputId": "388a6f01-42c6-49c8-cfbb-6eb53e9c4c0e",
    "pycharm": {
     "is_executing": true
    }
   },
   "source": [
    "class_names"
   ],
   "execution_count": 72,
   "outputs": [
    {
     "output_type": "execute_result",
     "data": {
      "text/plain": [
       "['green', 'red', 'yellow']"
      ]
     },
     "metadata": {},
     "execution_count": 72
    }
   ]
  },
  {
   "cell_type": "markdown",
   "metadata": {
    "id": "rN0z8OQt0Vbd"
   },
   "source": [
    "Набор данных для тестирования"
   ]
  },
  {
   "cell_type": "code",
   "metadata": {
    "colab": {
     "base_uri": "https://localhost:8080/"
    },
    "id": "O4-KCxNY0YY8",
    "outputId": "1eef653c-ba84-403c-802f-abf42526975d",
    "pycharm": {
     "is_executing": true
    }
   },
   "source": [
    "test_dataset = image_dataset_from_directory(f'{test_path}',\n",
    "                                             batch_size=128,\n",
    "                                             image_size=(100, 50))"
   ],
   "execution_count": 73,
   "outputs": [
    {
     "output_type": "stream",
     "name": "stdout",
     "text": [
      "Found 680 files belonging to 3 classes.\n"
     ]
    }
   ]
  },
  {
   "cell_type": "markdown",
   "metadata": {
    "id": "FM0jbFq4iN55"
   },
   "source": [
    "## Создаем составную нейронную сеть"
   ]
  },
  {
   "cell_type": "code",
   "metadata": {
    "id": "7VKctT97iQ9V"
   },
   "source": [
    "img_augmentation = Sequential(\n",
    "    [\n",
    "        layers.RandomRotation(factor=0.15),\n",
    "        layers.RandomTranslation(height_factor=0.1, width_factor=0.1),\n",
    "        layers.RandomFlip(),\n",
    "        layers.RandomContrast(factor=0.1),\n",
    "    ],\n",
    "    name=\"img_augmentation\",\n",
    ")"
   ],
   "execution_count": 74,
   "outputs": []
  },
  {
   "cell_type": "code",
   "metadata": {
    "id": "oSnveNshkha0",
    "pycharm": {
     "is_executing": true
    }
   },
   "source": [
    "inputs = layers.Input(shape=(100, 50, 3))\n",
    "x = img_augmentation(inputs)\n",
    "model = EfficientNetV2B0(include_top=False, input_tensor=x, weights=\"imagenet\")\n",
    "\n",
    "# Freeze the pretrained weights\n",
    "model.trainable = False\n",
    "\n",
    "# Rebuild top\n",
    "x = layers.GlobalAveragePooling2D(name=\"avg_pool\")(model.output)\n",
    "x = layers.BatchNormalization()(x)\n",
    "\n",
    "top_dropout_rate = 0.2\n",
    "x = layers.Dropout(top_dropout_rate, name=\"top_dropout\")(x)\n",
    "# Для задачи с двумя классами изображений\n",
    "# outputs = layers.Dense(1, activation=\"sigmoid\", name=\"pred\")(x)\n",
    "# Для задачи с несколькими классами изображений\n",
    "num_classes = 3 # Задаем количество классов\n",
    "outputs = layers.Dense(num_classes, activation=\"softmax\", name=\"pred\")(x)\n",
    "model = tf.keras.Model(inputs, outputs, name=\"EfficientNet\")"
   ],
   "execution_count": 75,
   "outputs": []
  },
  {
   "cell_type": "code",
   "source": [
    "one_hot_encoded_train_dataset = train_dataset.map(lambda x, y: (x, tf.one_hot(y, depth=3)))\n",
    "one_hot_encoded_test_dataset = test_dataset.map(lambda x, y: (x, tf.one_hot(y, depth=3)))"
   ],
   "metadata": {
    "id": "vBC-ed32eCLO"
   },
   "execution_count": 76,
   "outputs": []
  },
  {
   "cell_type": "markdown",
   "metadata": {
    "id": "Ei5qQXtjZeuQ"
   },
   "source": [
    "Компилируем составную нейронную сеть"
   ]
  },
  {
   "cell_type": "code",
   "metadata": {
    "id": "DeKT__ZeZeDS"
   },
   "source": [
    "# Для задачи с двумя классами изображений\n",
    "# model.compile(loss='binary_crossentropy',\n",
    "#              optimizer='adam', \n",
    "#              metrics=['accuracy'])\n",
    "# Для задачи с несколькими классами изображений\n",
    "model.compile(loss='categorical_crossentropy',\n",
    "              optimizer='adam', \n",
    "              metrics=['accuracy'])"
   ],
   "execution_count": 77,
   "outputs": []
  },
  {
   "cell_type": "markdown",
   "metadata": {
    "id": "3WqAoWQSbNY_"
   },
   "source": [
    "## Обучаем сеть"
   ]
  },
  {
   "cell_type": "code",
   "metadata": {
    "id": "vVuZxS7MbQNQ",
    "colab": {
     "base_uri": "https://localhost:8080/"
    },
    "outputId": "fd4bf18b-bf37-4b1f-d414-08c55c2ca5ec",
    "pycharm": {
     "is_executing": true
    }
   },
   "source": [
    "history = model.fit(one_hot_encoded_train_dataset,\n",
    "                    epochs=18)"
   ],
   "execution_count": 80,
   "outputs": [
    {
     "output_type": "stream",
     "name": "stdout",
     "text": [
      "Epoch 1/18\n",
      "7/7 [==============================] - 13s 2s/step - loss: 0.1733 - accuracy: 0.9429\n",
      "Epoch 2/18\n",
      "7/7 [==============================] - 12s 2s/step - loss: 0.1858 - accuracy: 0.9344\n",
      "Epoch 3/18\n",
      "7/7 [==============================] - 12s 2s/step - loss: 0.1768 - accuracy: 0.9368\n",
      "Epoch 4/18\n",
      "7/7 [==============================] - 13s 2s/step - loss: 0.1828 - accuracy: 0.9356\n",
      "Epoch 5/18\n",
      "7/7 [==============================] - 14s 2s/step - loss: 0.1770 - accuracy: 0.9332\n",
      "Epoch 6/18\n",
      "7/7 [==============================] - 13s 2s/step - loss: 0.1625 - accuracy: 0.9478\n",
      "Epoch 7/18\n",
      "7/7 [==============================] - 12s 2s/step - loss: 0.1618 - accuracy: 0.9429\n",
      "Epoch 8/18\n",
      "7/7 [==============================] - 12s 2s/step - loss: 0.1641 - accuracy: 0.9453\n",
      "Epoch 9/18\n",
      "7/7 [==============================] - 12s 2s/step - loss: 0.1736 - accuracy: 0.9356\n",
      "Epoch 10/18\n",
      "7/7 [==============================] - 14s 2s/step - loss: 0.1718 - accuracy: 0.9368\n",
      "Epoch 11/18\n",
      "7/7 [==============================] - 13s 2s/step - loss: 0.1470 - accuracy: 0.9526\n",
      "Epoch 12/18\n",
      "7/7 [==============================] - 13s 2s/step - loss: 0.1618 - accuracy: 0.9453\n",
      "Epoch 13/18\n",
      "7/7 [==============================] - 12s 2s/step - loss: 0.1532 - accuracy: 0.9405\n",
      "Epoch 14/18\n",
      "7/7 [==============================] - 13s 2s/step - loss: 0.1371 - accuracy: 0.9599\n",
      "Epoch 15/18\n",
      "7/7 [==============================] - 12s 2s/step - loss: 0.1603 - accuracy: 0.9490\n",
      "Epoch 16/18\n",
      "7/7 [==============================] - 12s 2s/step - loss: 0.1466 - accuracy: 0.9441\n",
      "Epoch 17/18\n",
      "7/7 [==============================] - 12s 2s/step - loss: 0.1503 - accuracy: 0.9429\n",
      "Epoch 18/18\n",
      "7/7 [==============================] - 13s 2s/step - loss: 0.1491 - accuracy: 0.9538\n"
     ]
    }
   ]
  },
  {
   "cell_type": "markdown",
   "metadata": {
    "id": "EUmjkgVfED5F"
   },
   "source": [
    "Проверяем качество обучения на тестовом наборе данных\n"
   ]
  },
  {
   "cell_type": "code",
   "metadata": {
    "id": "VTbj27FSdaey",
    "pycharm": {
     "is_executing": true
    },
    "colab": {
     "base_uri": "https://localhost:8080/"
    },
    "outputId": "adb4fbbb-e455-4ea3-fe68-def5d6d763c3"
   },
   "source": [
    "scores = model.evaluate(one_hot_encoded_test_dataset, verbose=1)"
   ],
   "execution_count": 81,
   "outputs": [
    {
     "output_type": "stream",
     "name": "stdout",
     "text": [
      "6/6 [==============================] - 2s 49ms/step - loss: 0.3823 - accuracy: 0.8838\n"
     ]
    }
   ]
  },
  {
   "cell_type": "code",
   "metadata": {
    "id": "Wsnp3qxl01e5",
    "pycharm": {
     "is_executing": true
    },
    "colab": {
     "base_uri": "https://localhost:8080/"
    },
    "outputId": "67ce5e78-5053-47e3-deef-21a743e990bb"
   },
   "source": [
    "print(\"Доля верных ответов на тестовых данных, в процентах:\", round(scores[1] * 100, 4))"
   ],
   "execution_count": 82,
   "outputs": [
    {
     "output_type": "stream",
     "name": "stdout",
     "text": [
      "Доля верных ответов на тестовых данных, в процентах: 88.3824\n"
     ]
    }
   ]
  },
  {
   "cell_type": "markdown",
   "source": [],
   "metadata": {
    "id": "bqL3dEHwcRD9"
   }
  },
  {
   "cell_type": "markdown",
   "metadata": {
    "id": "nophkWccubGB"
   },
   "source": [
    "## Использование нейронной сети для распознавания изображений\n",
    "\n",
    "Вспоминаем номера классов"
   ]
  },
  {
   "cell_type": "code",
   "metadata": {
    "id": "e7PW4N8UwVNw",
    "pycharm": {
     "is_executing": true
    },
    "colab": {
     "base_uri": "https://localhost:8080/"
    },
    "outputId": "0e5174a8-7259-4e24-a41b-51af846be2b4"
   },
   "source": [
    "class_names"
   ],
   "execution_count": 83,
   "outputs": [
    {
     "output_type": "execute_result",
     "data": {
      "text/plain": [
       "['green', 'red', 'yellow']"
      ]
     },
     "metadata": {},
     "execution_count": 83
    }
   ]
  },
  {
   "cell_type": "markdown",
   "metadata": {
    "id": "p3aLt3QbwcLA"
   },
   "source": [
    "Загружаем изображение из файла"
   ]
  },
  {
   "cell_type": "code",
   "metadata": {
    "colab": {
     "base_uri": "https://localhost:8080/",
     "height": 268
    },
    "id": "dp6mVVX6ugSF",
    "outputId": "d9736e5c-f4c6-40e2-959a-e0a8618367e6",
    "pycharm": {
     "is_executing": true
    }
   },
   "source": [
    "img_path = f'{test_path}/red/red_223.jpg'\n",
    "img = image.load_img(img_path, target_size=(100, 50))\n",
    "plt.imshow(img)\n",
    "plt.show()"
   ],
   "execution_count": 84,
   "outputs": [
    {
     "output_type": "display_data",
     "data": {
      "text/plain": [
       "<Figure size 432x288 with 1 Axes>"
      ],
      "image/png": "[encoded data removed]"
     },
     "metadata": {
      "needs_background": "light"
     }
    }
   ]
  },
  {
   "cell_type": "markdown",
   "metadata": {
    "id": "aX_xkm0IwgMs"
   },
   "source": [
    "Преобразуем изображение в массив"
   ]
  },
  {
   "cell_type": "code",
   "metadata": {
    "id": "eREEib0PvBR4"
   },
   "source": [
    "x = image.img_to_array(img)\n",
    "x = np.expand_dims(x, axis=0)"
   ],
   "execution_count": 85,
   "outputs": []
  },
  {
   "cell_type": "markdown",
   "metadata": {
    "id": "-QfoEfaOwi95"
   },
   "source": [
    "Запускаем распознавание"
   ]
  },
  {
   "cell_type": "code",
   "metadata": {
    "id": "4YXiKNa2vFjk",
    "pycharm": {
     "is_executing": true
    },
    "colab": {
     "base_uri": "https://localhost:8080/"
    },
    "outputId": "af0552c6-1916-4d6f-cb56-3e48d7913736"
   },
   "source": [
    "prediction = model.predict(x)"
   ],
   "execution_count": 86,
   "outputs": [
    {
     "output_type": "stream",
     "name": "stdout",
     "text": [
      "1/1 [==============================] - 1s 1s/step\n"
     ]
    }
   ]
  },
  {
   "cell_type": "markdown",
   "metadata": {
    "id": "CD10884AwlhX"
   },
   "source": [
    "Печатаем результаты распознавания"
   ]
  },
  {
   "cell_type": "code",
   "metadata": {
    "colab": {
     "base_uri": "https://localhost:8080/"
    },
    "id": "iZm5X7hKvI40",
    "outputId": "dea682ee-240f-43ee-a22b-9d1010653a78"
   },
   "source": [
    "prediction\n"
   ],
   "execution_count": 87,
   "outputs": [
    {
     "output_type": "execute_result",
     "data": {
      "text/plain": [
       "array([[0.01283452, 0.9860139 , 0.00115154]], dtype=float32)"
      ]
     },
     "metadata": {},
     "execution_count": 87
    }
   ]
  }
 ]
}
