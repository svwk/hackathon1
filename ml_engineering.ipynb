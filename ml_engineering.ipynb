{
  "nbformat": 4,
  "nbformat_minor": 0,
  "metadata": {
    "colab": {
      "provenance": []
    },
    "kernelspec": {
      "name": "python3",
      "display_name": "Python 3"
    },
    "accelerator": "GPU"
  },
  "cells": [
    {
      "cell_type": "markdown",
      "metadata": {
        "id": "hbf8UxqyDTrw"
      },
      "source": [
        "## Детектирование сигнала светофора\n",
        "\n",
        "Проект направлен на обнаружение сигнала светофора с использованием машинного обучения\n",
        "Задачи:\n",
        "- Обнаружение красного (круглого) сигнала в дневное время\n",
        "- Обнаружение желтого (круглого) сигнала в дневное время\n",
        "- Обнаружение зеленого (круглого) сигнала в дневное время\n",
        "- Детектирование отсутствия светофора в дневное время\n",
        "\n",
        "Для проекта используются следующие датасеты:\n",
        "- тренировочный (4 датасета: red, yellow, green, empty - без светофора)\n",
        "-  тестовый  (4 датасета: red, yellow, green, empty - без светофора)\n",
        "\n",
        "Каждый датасет представляет собой набор изображений с трехсекционным светофором в дневное время (для набора empty - без светофора в дневное время)."
      ]
    },
    {
      "cell_type": "code",
      "metadata": {
        "id": "J-9dE2J4DJM0"
      },
      "source": [
        "import os\n",
        "import numpy as np\n",
        "import tensorflow as tf\n",
        "from tensorflow.keras.models import Sequential\n",
        "from tensorflow.keras import layers\n",
        "from tensorflow.keras import utils\n",
        "from tensorflow.keras.applications import EfficientNetV2B0\n",
        "from tensorflow.keras.preprocessing import image\n",
        "from tensorflow.keras.preprocessing import image_dataset_from_directory\n",
        "import matplotlib.pyplot as plt\n",
        "from google.colab import files\n",
        "%matplotlib inline "
      ],
      "execution_count": 1,
      "outputs": []
    },
    {
      "cell_type": "markdown",
      "metadata": {
        "id": "xW1S04zYCPtc"
      },
      "source": [
        "## Загружаем данные"
      ]
    },
    {
      "cell_type": "code",
      "metadata": {
        "id": "aUmBByJl_nGX",
        "colab": {
          "base_uri": "https://localhost:8080/"
        },
        "outputId": "788bedc4-76b1-4975-f425-d7bb04d14f95",
        "pycharm": {
          "is_executing": true
        }
      },
      "source": [
        "!wget https://www.dropbox.com/s/mylc2jmywdmp4d5/train.zip?dl=0  -O train.zip"
      ],
      "execution_count": 35,
      "outputs": [
        {
          "output_type": "stream",
          "name": "stdout",
          "text": [
            "--2023-01-20 09:05:25--  https://www.dropbox.com/s/mylc2jmywdmp4d5/train.zip?dl=0\n",
            "Resolving www.dropbox.com (www.dropbox.com)... 162.125.5.18, 2620:100:601d:18::a27d:512\n",
            "Connecting to www.dropbox.com (www.dropbox.com)|162.125.5.18|:443... connected.\n",
            "HTTP request sent, awaiting response... 302 Found\n",
            "Location: /s/raw/mylc2jmywdmp4d5/train.zip [following]\n",
            "--2023-01-20 09:05:25--  https://www.dropbox.com/s/raw/mylc2jmywdmp4d5/train.zip\n",
            "Reusing existing connection to www.dropbox.com:443.\n",
            "HTTP request sent, awaiting response... 302 Found\n",
            "Location: https://uce6e0cbd9e445c851db9513abcf.dl.dropboxusercontent.com/cd/0/inline/B07TTEhcxVLRdxiFtoCpqhrbtuU0Z42lXAlYXcG20qhJ0o_PkhOh46nQxo1Hb7v1bKj55Cx4rlJsguUvuT1FY-sD8GFgWZ9Zb-zcJzo8QnK97XDuBgdAzt0NdMRfa1iDazkiMfX9mQRbG7VcHDuEUc8zT5qqDk4Bst2hePLbug5zzg/file# [following]\n",
            "--2023-01-20 09:05:26--  https://uce6e0cbd9e445c851db9513abcf.dl.dropboxusercontent.com/cd/0/inline/B07TTEhcxVLRdxiFtoCpqhrbtuU0Z42lXAlYXcG20qhJ0o_PkhOh46nQxo1Hb7v1bKj55Cx4rlJsguUvuT1FY-sD8GFgWZ9Zb-zcJzo8QnK97XDuBgdAzt0NdMRfa1iDazkiMfX9mQRbG7VcHDuEUc8zT5qqDk4Bst2hePLbug5zzg/file\n",
            "Resolving uce6e0cbd9e445c851db9513abcf.dl.dropboxusercontent.com (uce6e0cbd9e445c851db9513abcf.dl.dropboxusercontent.com)... 162.125.5.15, 2620:100:601d:15::a27d:50f\n",
            "Connecting to uce6e0cbd9e445c851db9513abcf.dl.dropboxusercontent.com (uce6e0cbd9e445c851db9513abcf.dl.dropboxusercontent.com)|162.125.5.15|:443... connected.\n",
            "HTTP request sent, awaiting response... 302 Found\n",
            "Location: /cd/0/inline2/B07HBNzhMp8UGArBf66PJdEjOTKJ1ov9w4wCCuG50XoniTnXFilNjzcjcUM69tDoLtXQBNiA32RBDLrH0UHVG48xlvxYcB-Rb1VMLuCpoagKIWHLK_7NNgVOucU7qSfPrZhv5yXYQFumeH1qtJ55vI-_SjUgzib8sEg1JgbZ187FgWaHLYg81RJUwMHIFlkkRUuk2w2YnAXnrJXA14vKBKer6IhiNitxnIuVJ_xXtVO9c3V9x-ItXFonLe4s41sowkcKagU1Tocfe4iwclOrpr06r_j3rYYLbHvYDUQirGAYZb9dOrBsQxurUw0Y7iGNY_gplgkAHEJB5FB2Su5QyG4vc6Ki83LQni2ixMqGJ0HxySx0OuUvHgZylIbsJCkJjCRFTTxp5mEpt6R3lVevHlqrMZ7fvPFMg70G49aF1dNMyA/file [following]\n",
            "--2023-01-20 09:05:26--  https://uce6e0cbd9e445c851db9513abcf.dl.dropboxusercontent.com/cd/0/inline2/B07HBNzhMp8UGArBf66PJdEjOTKJ1ov9w4wCCuG50XoniTnXFilNjzcjcUM69tDoLtXQBNiA32RBDLrH0UHVG48xlvxYcB-Rb1VMLuCpoagKIWHLK_7NNgVOucU7qSfPrZhv5yXYQFumeH1qtJ55vI-_SjUgzib8sEg1JgbZ187FgWaHLYg81RJUwMHIFlkkRUuk2w2YnAXnrJXA14vKBKer6IhiNitxnIuVJ_xXtVO9c3V9x-ItXFonLe4s41sowkcKagU1Tocfe4iwclOrpr06r_j3rYYLbHvYDUQirGAYZb9dOrBsQxurUw0Y7iGNY_gplgkAHEJB5FB2Su5QyG4vc6Ki83LQni2ixMqGJ0HxySx0OuUvHgZylIbsJCkJjCRFTTxp5mEpt6R3lVevHlqrMZ7fvPFMg70G49aF1dNMyA/file\n",
            "Reusing existing connection to uce6e0cbd9e445c851db9513abcf.dl.dropboxusercontent.com:443.\n",
            "HTTP request sent, awaiting response... 200 OK\n",
            "Length: 2869440 (2.7M) [application/zip]\n",
            "Saving to: ‘train.zip’\n",
            "\n",
            "train.zip           100%[===================>]   2.74M  --.-KB/s    in 0.1s    \n",
            "\n",
            "2023-01-20 09:05:27 (21.5 MB/s) - ‘train.zip’ saved [2869440/2869440]\n",
            "\n"
          ]
        }
      ]
    },
    {
      "cell_type": "code",
      "metadata": {
        "colab": {
          "base_uri": "https://localhost:8080/"
        },
        "id": "ZoQ0V8RXzw-y",
        "outputId": "2c3d9a5f-c7f1-445e-cecc-52f25813e95e",
        "pycharm": {
          "is_executing": true
        }
      },
      "source": [
        "!wget https://www.dropbox.com/s/ucyoooujn1oxjmn/test.zip?dl=0 -O test.zip"
      ],
      "execution_count": 36,
      "outputs": [
        {
          "output_type": "stream",
          "name": "stdout",
          "text": [
            "--2023-01-20 09:05:32--  https://www.dropbox.com/s/ucyoooujn1oxjmn/test.zip?dl=0\n",
            "Resolving www.dropbox.com (www.dropbox.com)... 162.125.64.18, 2620:100:601d:18::a27d:512\n",
            "Connecting to www.dropbox.com (www.dropbox.com)|162.125.64.18|:443... connected.\n",
            "HTTP request sent, awaiting response... 302 Found\n",
            "Location: /s/raw/ucyoooujn1oxjmn/test.zip [following]\n",
            "--2023-01-20 09:05:33--  https://www.dropbox.com/s/raw/ucyoooujn1oxjmn/test.zip\n",
            "Reusing existing connection to www.dropbox.com:443.\n",
            "HTTP request sent, awaiting response... 302 Found\n",
            "Location: https://uc582809df07c44712fb7e9cc6ef.dl.dropboxusercontent.com/cd/0/inline/B07rYuOq5uID5ZklP_NU5TpL_M0RdQPMOeRfmQhnyqaX6sEaByQ6iLVcpFKDsAgAdQBI7-szCMBQzRfoftEbXPjyavPbyymNknwCTfVJBPy_4cPc2PVqiNakOQ79c_TKYRqLIZGi_laLjbX43acC-xSD5sSzdj38hRxLmZugpj4Glg/file# [following]\n",
            "--2023-01-20 09:05:33--  https://uc582809df07c44712fb7e9cc6ef.dl.dropboxusercontent.com/cd/0/inline/B07rYuOq5uID5ZklP_NU5TpL_M0RdQPMOeRfmQhnyqaX6sEaByQ6iLVcpFKDsAgAdQBI7-szCMBQzRfoftEbXPjyavPbyymNknwCTfVJBPy_4cPc2PVqiNakOQ79c_TKYRqLIZGi_laLjbX43acC-xSD5sSzdj38hRxLmZugpj4Glg/file\n",
            "Resolving uc582809df07c44712fb7e9cc6ef.dl.dropboxusercontent.com (uc582809df07c44712fb7e9cc6ef.dl.dropboxusercontent.com)... 162.125.5.15, 2620:100:601d:15::a27d:50f\n",
            "Connecting to uc582809df07c44712fb7e9cc6ef.dl.dropboxusercontent.com (uc582809df07c44712fb7e9cc6ef.dl.dropboxusercontent.com)|162.125.5.15|:443... connected.\n",
            "HTTP request sent, awaiting response... 302 Found\n",
            "Location: /cd/0/inline2/B06dofMQGwrk2TXA6rClz2JNGt5pc6oMhwpiJ3hFZPGVYrBmk4IWmvctOvQdiZLg3HkyYkd6Ws6QM2Ma_5Bpb8tN8TIgQhpluDG7b_Aj1SVYx6EeArjIsVNHLYl7HGnEyeYeqG2bTqX51crDulEWE56r6AphoDn6i4vtAD0k5pMFq20hJb3Kup5LPdpEXJSQgybvzsTZdyha7mBR3q0d4htDXOatGOna89riD7KCdqffBqMeNYRQmjfuqHkWBHbJifaiuTNFcyI_WhS50fW1xgozSKKBnoVtmwy7svA_XCihqntMW7EUefWVb0diQ4FQvJoh6pvTI5Mmw-Z03SUQsSFAksj0DCFHGJ4DjksIZ1WU1llMeJH2J6E-9-uwQeewpSWi9WAW-qQkNmZXAORT0yygr9G4gqlqtXMXDTkbx1tY7g/file [following]\n",
            "--2023-01-20 09:05:34--  https://uc582809df07c44712fb7e9cc6ef.dl.dropboxusercontent.com/cd/0/inline2/B06dofMQGwrk2TXA6rClz2JNGt5pc6oMhwpiJ3hFZPGVYrBmk4IWmvctOvQdiZLg3HkyYkd6Ws6QM2Ma_5Bpb8tN8TIgQhpluDG7b_Aj1SVYx6EeArjIsVNHLYl7HGnEyeYeqG2bTqX51crDulEWE56r6AphoDn6i4vtAD0k5pMFq20hJb3Kup5LPdpEXJSQgybvzsTZdyha7mBR3q0d4htDXOatGOna89riD7KCdqffBqMeNYRQmjfuqHkWBHbJifaiuTNFcyI_WhS50fW1xgozSKKBnoVtmwy7svA_XCihqntMW7EUefWVb0diQ4FQvJoh6pvTI5Mmw-Z03SUQsSFAksj0DCFHGJ4DjksIZ1WU1llMeJH2J6E-9-uwQeewpSWi9WAW-qQkNmZXAORT0yygr9G4gqlqtXMXDTkbx1tY7g/file\n",
            "Reusing existing connection to uc582809df07c44712fb7e9cc6ef.dl.dropboxusercontent.com:443.\n",
            "HTTP request sent, awaiting response... 200 OK\n",
            "Length: 2834308 (2.7M) [application/zip]\n",
            "Saving to: ‘test.zip’\n",
            "\n",
            "test.zip            100%[===================>]   2.70M  --.-KB/s    in 0.1s    \n",
            "\n",
            "2023-01-20 09:05:34 (21.5 MB/s) - ‘test.zip’ saved [2834308/2834308]\n",
            "\n"
          ]
        }
      ]
    },
    {
      "cell_type": "code",
      "metadata": {
        "id": "LmTiycULJBV9",
        "colab": {
          "base_uri": "https://localhost:8080/"
        },
        "outputId": "58f1179d-d3e3-4321-a450-e150bf905b3a",
        "pycharm": {
          "is_executing": true
        }
      },
      "source": [
        "!ls"
      ],
      "execution_count": 37,
      "outputs": [
        {
          "output_type": "stream",
          "name": "stdout",
          "text": [
            "sample_data  test.zip  train.zip\n"
          ]
        }
      ]
    },
    {
      "cell_type": "code",
      "metadata": {
        "id": "MNbpcin0JDQ9"
      },
      "source": [
        "!unzip -q train.zip"
      ],
      "execution_count": 38,
      "outputs": []
    },
    {
      "cell_type": "code",
      "metadata": {
        "id": "BXlavLxtJbg9",
        "colab": {
          "base_uri": "https://localhost:8080/"
        },
        "outputId": "3fe35df1-026b-4363-99fd-d87dcc8a78ee"
      },
      "source": [
        "!ls train"
      ],
      "execution_count": 39,
      "outputs": [
        {
          "output_type": "stream",
          "name": "stdout",
          "text": [
            "green  red  yellow\n"
          ]
        }
      ]
    },
    {
      "cell_type": "code",
      "metadata": {
        "id": "_xPKDP1a0GY1"
      },
      "source": [
        "!unzip -q test.zip"
      ],
      "execution_count": 40,
      "outputs": []
    },
    {
      "cell_type": "code",
      "metadata": {
        "colab": {
          "base_uri": "https://localhost:8080/"
        },
        "id": "7ZAvRnzw0Nlc",
        "outputId": "0d82488e-66f8-40e6-b282-82a83bd8d6df"
      },
      "source": [
        "!ls test"
      ],
      "execution_count": 41,
      "outputs": [
        {
          "output_type": "stream",
          "name": "stdout",
          "text": [
            "green  red  yellow\n"
          ]
        }
      ]
    },
    {
      "cell_type": "code",
      "source": [
        "train_path='train'\n",
        "test_path='test'"
      ],
      "metadata": {
        "id": "gBr2CHOOVBRK"
      },
      "execution_count": 42,
      "outputs": []
    },
    {
      "cell_type": "markdown",
      "metadata": {
        "id": "sBtxTfArJmo1"
      },
      "source": [
        "Смотрим примеры картинок"
      ]
    },
    {
      "cell_type": "code",
      "metadata": {
        "id": "a3g5TG9_Joct",
        "colab": {
          "base_uri": "https://localhost:8080/",
          "height": 268
        },
        "outputId": "81b9b92b-4263-44d0-9dd6-5401cd1ab598",
        "pycharm": {
          "is_executing": true
        }
      },
      "source": [
        "img_path = f'{train_path}/green/green_10.jpg'\n",
        "img = image.load_img(img_path)\n",
        "plt.imshow(img)\n",
        "plt.show()"
      ],
      "execution_count": 43,
      "outputs": [
        {
          "output_type": "display_data",
          "data": {
            "text/plain": [
              "<Figure size 432x288 with 1 Axes>"
            ],
            "image/png": "[encoded data removed]"
          },
          "metadata": {
            "needs_background": "light"
          }
        }
      ]
    },
    {
      "cell_type": "markdown",
      "metadata": {
        "id": "VSOoZ5WQg93t"
      },
      "source": [
        "## Создаем наборы данных"
      ]
    },
    {
      "cell_type": "markdown",
      "metadata": {
        "id": "0rZACWwwhHK6"
      },
      "source": [
        "Набор данных для обучения"
      ]
    },
    {
      "cell_type": "code",
      "metadata": {
        "colab": {
          "base_uri": "https://localhost:8080/"
        },
        "id": "_c87nc2hhBbt",
        "outputId": "27ebaa56-53a8-4a98-e00d-0ff7fd8b2d58",
        "pycharm": {
          "is_executing": true
        }
      },
      "source": [
        "train_dataset = image_dataset_from_directory(f'{train_path}',\n",
        "                                             batch_size=128,\n",
        "                                             image_size=(100, 50))"
      ],
      "execution_count": 44,
      "outputs": [
        {
          "output_type": "stream",
          "name": "stdout",
          "text": [
            "Found 823 files belonging to 3 classes.\n"
          ]
        }
      ]
    },
    {
      "cell_type": "code",
      "metadata": {
        "id": "9yb30gBCvd2Q"
      },
      "source": [
        "class_names = train_dataset.class_names"
      ],
      "execution_count": 45,
      "outputs": []
    },
    {
      "cell_type": "code",
      "metadata": {
        "colab": {
          "base_uri": "https://localhost:8080/"
        },
        "id": "NEHSKie1ve1A",
        "outputId": "bed2be7e-ca4b-4072-fd91-3fc133281226",
        "pycharm": {
          "is_executing": true
        }
      },
      "source": [
        "class_names"
      ],
      "execution_count": 46,
      "outputs": [
        {
          "output_type": "execute_result",
          "data": {
            "text/plain": [
              "['green', 'red', 'yellow']"
            ]
          },
          "metadata": {},
          "execution_count": 46
        }
      ]
    },
    {
      "cell_type": "markdown",
      "metadata": {
        "id": "rN0z8OQt0Vbd"
      },
      "source": [
        "Набор данных для тестирования"
      ]
    },
    {
      "cell_type": "code",
      "metadata": {
        "colab": {
          "base_uri": "https://localhost:8080/"
        },
        "id": "O4-KCxNY0YY8",
        "outputId": "49ee9295-5f5b-4ec1-f6c9-50901827652b",
        "pycharm": {
          "is_executing": true
        }
      },
      "source": [
        "test_dataset = image_dataset_from_directory(f'{test_path}',\n",
        "                                             batch_size=128,\n",
        "                                             image_size=(100, 50))"
      ],
      "execution_count": 47,
      "outputs": [
        {
          "output_type": "stream",
          "name": "stdout",
          "text": [
            "Found 680 files belonging to 3 classes.\n"
          ]
        }
      ]
    },
    {
      "cell_type": "markdown",
      "metadata": {
        "id": "FM0jbFq4iN55"
      },
      "source": [
        "## Создаем составную нейронную сеть"
      ]
    },
    {
      "cell_type": "code",
      "metadata": {
        "id": "7VKctT97iQ9V"
      },
      "source": [
        "img_augmentation = Sequential(\n",
        "    [\n",
        "        layers.RandomRotation(factor=0.15),\n",
        "        layers.RandomTranslation(height_factor=0.1, width_factor=0.1),\n",
        "        layers.RandomFlip(),\n",
        "        layers.RandomContrast(factor=0.1),\n",
        "    ],\n",
        "    name=\"img_augmentation\",\n",
        ")"
      ],
      "execution_count": 48,
      "outputs": []
    },
    {
      "cell_type": "code",
      "metadata": {
        "id": "oSnveNshkha0",
        "pycharm": {
          "is_executing": true
        }
      },
      "source": [
        "inputs = layers.Input(shape=(100, 50, 3))\n",
        "x = img_augmentation(inputs)\n",
        "model = EfficientNetV2B0(include_top=False, input_tensor=x, weights=\"imagenet\")\n",
        "\n",
        "# Freeze the pretrained weights\n",
        "model.trainable = False\n",
        "\n",
        "# Rebuild top\n",
        "x = layers.GlobalAveragePooling2D(name=\"avg_pool\")(model.output)\n",
        "x = layers.BatchNormalization()(x)\n",
        "\n",
        "top_dropout_rate = 0.2\n",
        "x = layers.Dropout(top_dropout_rate, name=\"top_dropout\")(x)\n",
        "# Для задачи с двумя классами изображений\n",
        "# outputs = layers.Dense(1, activation=\"sigmoid\", name=\"pred\")(x)\n",
        "# Для задачи с несколькими классами изображений\n",
        "num_classes = 3 # Задаем количество классов\n",
        "outputs = layers.Dense(num_classes, activation=\"softmax\", name=\"pred\")(x)\n",
        "model = tf.keras.Model(inputs, outputs, name=\"EfficientNet\")"
      ],
      "execution_count": 49,
      "outputs": []
    },
    {
      "cell_type": "code",
      "source": [
        "one_hot_encoded_train_dataset = train_dataset.map(lambda x, y: (x, tf.one_hot(y, depth=3)))\n",
        "one_hot_encoded_test_dataset = test_dataset.map(lambda x, y: (x, tf.one_hot(y, depth=3)))"
      ],
      "metadata": {
        "id": "vBC-ed32eCLO"
      },
      "execution_count": 50,
      "outputs": []
    },
    {
      "cell_type": "markdown",
      "metadata": {
        "id": "Ei5qQXtjZeuQ"
      },
      "source": [
        "Компилируем составную нейронную сеть"
      ]
    },
    {
      "cell_type": "code",
      "metadata": {
        "id": "DeKT__ZeZeDS"
      },
      "source": [
        "# Для задачи с двумя классами изображений\n",
        "# model.compile(loss='binary_crossentropy',\n",
        "#              optimizer='adam', \n",
        "#              metrics=['accuracy'])\n",
        "# Для задачи с несколькими классами изображений\n",
        "model.compile(loss='categorical_crossentropy',\n",
        "              optimizer='adam', \n",
        "              metrics=['accuracy'])"
      ],
      "execution_count": 51,
      "outputs": []
    },
    {
      "cell_type": "markdown",
      "metadata": {
        "id": "3WqAoWQSbNY_"
      },
      "source": [
        "## Обучаем сеть"
      ]
    },
    {
      "cell_type": "code",
      "metadata": {
        "id": "vVuZxS7MbQNQ",
        "colab": {
          "base_uri": "https://localhost:8080/"
        },
        "outputId": "7da54d11-2120-4914-c94f-8f4963b6530c",
        "pycharm": {
          "is_executing": true
        }
      },
      "source": [
        "history = model.fit(one_hot_encoded_train_dataset,\n",
        "                    epochs=18)"
      ],
      "execution_count": 53,
      "outputs": [
        {
          "output_type": "stream",
          "name": "stdout",
          "text": [
            "Epoch 1/18\n",
            "7/7 [==============================] - 8s 975ms/step - loss: 0.2091 - accuracy: 0.9307\n",
            "Epoch 2/18\n",
            "7/7 [==============================] - 7s 975ms/step - loss: 0.2393 - accuracy: 0.9089\n",
            "Epoch 3/18\n",
            "7/7 [==============================] - 7s 979ms/step - loss: 0.2396 - accuracy: 0.9222\n",
            "Epoch 4/18\n",
            "7/7 [==============================] - 7s 978ms/step - loss: 0.2192 - accuracy: 0.9283\n",
            "Epoch 5/18\n",
            "7/7 [==============================] - 7s 960ms/step - loss: 0.2167 - accuracy: 0.9259\n",
            "Epoch 6/18\n",
            "7/7 [==============================] - 7s 973ms/step - loss: 0.2083 - accuracy: 0.9259\n",
            "Epoch 7/18\n",
            "7/7 [==============================] - 7s 976ms/step - loss: 0.2141 - accuracy: 0.9283\n",
            "Epoch 8/18\n",
            "7/7 [==============================] - 7s 968ms/step - loss: 0.1991 - accuracy: 0.9332\n",
            "Epoch 9/18\n",
            "7/7 [==============================] - 7s 968ms/step - loss: 0.2098 - accuracy: 0.9307\n",
            "Epoch 10/18\n",
            "7/7 [==============================] - 7s 968ms/step - loss: 0.1856 - accuracy: 0.9368\n",
            "Epoch 11/18\n",
            "7/7 [==============================] - 7s 968ms/step - loss: 0.1939 - accuracy: 0.9271\n",
            "Epoch 12/18\n",
            "7/7 [==============================] - 7s 961ms/step - loss: 0.1747 - accuracy: 0.9465\n",
            "Epoch 13/18\n",
            "7/7 [==============================] - 7s 950ms/step - loss: 0.1852 - accuracy: 0.9380\n",
            "Epoch 14/18\n",
            "7/7 [==============================] - 7s 965ms/step - loss: 0.1922 - accuracy: 0.9307\n",
            "Epoch 15/18\n",
            "7/7 [==============================] - 7s 964ms/step - loss: 0.1783 - accuracy: 0.9441\n",
            "Epoch 16/18\n",
            "7/7 [==============================] - 7s 968ms/step - loss: 0.1613 - accuracy: 0.9441\n",
            "Epoch 17/18\n",
            "7/7 [==============================] - 7s 966ms/step - loss: 0.1889 - accuracy: 0.9259\n",
            "Epoch 18/18\n",
            "7/7 [==============================] - 10s 1s/step - loss: 0.1739 - accuracy: 0.9441\n"
          ]
        }
      ]
    },
    {
      "cell_type": "markdown",
      "metadata": {
        "id": "EUmjkgVfED5F"
      },
      "source": [
        "Проверяем качество обучения на тестовом наборе данных\n"
      ]
    },
    {
      "cell_type": "code",
      "metadata": {
        "id": "VTbj27FSdaey",
        "pycharm": {
          "is_executing": true
        },
        "colab": {
          "base_uri": "https://localhost:8080/"
        },
        "outputId": "6de44495-1ae6-4b43-cd09-7b7074a725be"
      },
      "source": [
        "scores = model.evaluate(one_hot_encoded_test_dataset, verbose=1)"
      ],
      "execution_count": 54,
      "outputs": [
        {
          "output_type": "stream",
          "name": "stdout",
          "text": [
            "6/6 [==============================] - 7s 775ms/step - loss: 0.3996 - accuracy: 0.8515\n"
          ]
        }
      ]
    },
    {
      "cell_type": "code",
      "metadata": {
        "id": "Wsnp3qxl01e5",
        "pycharm": {
          "is_executing": true
        },
        "colab": {
          "base_uri": "https://localhost:8080/"
        },
        "outputId": "d7995b31-54c5-4d96-8d73-ef9499805c3a"
      },
      "source": [
        "print(\"Доля верных ответов на тестовых данных, в процентах:\", round(scores[1] * 100, 4))"
      ],
      "execution_count": 55,
      "outputs": [
        {
          "output_type": "stream",
          "name": "stdout",
          "text": [
            "Доля верных ответов на тестовых данных, в процентах: 85.1471\n"
          ]
        }
      ]
    },
    {
      "cell_type": "markdown",
      "source": [],
      "metadata": {
        "id": "bqL3dEHwcRD9"
      }
    },
    {
      "cell_type": "markdown",
      "metadata": {
        "id": "nophkWccubGB"
      },
      "source": [
        "## Использование нейронной сети для распознавания изображений\n",
        "\n",
        "Вспоминаем номера классов"
      ]
    },
    {
      "cell_type": "code",
      "metadata": {
        "id": "e7PW4N8UwVNw",
        "pycharm": {
          "is_executing": true
        },
        "colab": {
          "base_uri": "https://localhost:8080/"
        },
        "outputId": "790b6f4b-d0c9-4902-facc-0e29fc8e1967"
      },
      "source": [
        "class_names"
      ],
      "execution_count": 56,
      "outputs": [
        {
          "output_type": "execute_result",
          "data": {
            "text/plain": [
              "['green', 'red', 'yellow']"
            ]
          },
          "metadata": {},
          "execution_count": 56
        }
      ]
    },
    {
      "cell_type": "markdown",
      "metadata": {
        "id": "p3aLt3QbwcLA"
      },
      "source": [
        "Загружаем изображение из файла"
      ]
    },
    {
      "cell_type": "code",
      "metadata": {
        "colab": {
          "base_uri": "https://localhost:8080/",
          "height": 268
        },
        "id": "dp6mVVX6ugSF",
        "outputId": "3a3ed29c-8025-40a7-9e69-1464b0da5f93",
        "pycharm": {
          "is_executing": true
        }
      },
      "source": [
        "img_path = f'{test_path}/red/dayClip11--145.jpg'\n",
        "img = image.load_img(img_path, target_size=(100, 50))\n",
        "plt.imshow(img)\n",
        "plt.show()"
      ],
      "execution_count": 57,
      "outputs": [
        {
          "output_type": "display_data",
          "data": {
            "text/plain": [
              "<Figure size 432x288 with 1 Axes>"
            ],
            "image/png": "[encoded data removed]"
          },
          "metadata": {
            "needs_background": "light"
          }
        }
      ]
    },
    {
      "cell_type": "markdown",
      "metadata": {
        "id": "aX_xkm0IwgMs"
      },
      "source": [
        "Преобразуем изображение в массив"
      ]
    },
    {
      "cell_type": "code",
      "metadata": {
        "id": "eREEib0PvBR4"
      },
      "source": [
        "x = image.img_to_array(img)\n",
        "x = np.expand_dims(x, axis=0)"
      ],
      "execution_count": 58,
      "outputs": []
    },
    {
      "cell_type": "markdown",
      "metadata": {
        "id": "-QfoEfaOwi95"
      },
      "source": [
        "Запускаем распознавание"
      ]
    },
    {
      "cell_type": "code",
      "metadata": {
        "id": "4YXiKNa2vFjk",
        "pycharm": {
          "is_executing": true
        },
        "colab": {
          "base_uri": "https://localhost:8080/"
        },
        "outputId": "a15e77c2-e6a5-4eb1-9afd-b4b6b7543c14"
      },
      "source": [
        "prediction = model.predict(x)"
      ],
      "execution_count": 59,
      "outputs": [
        {
          "output_type": "stream",
          "name": "stdout",
          "text": [
            "1/1 [==============================] - 2s 2s/step\n"
          ]
        }
      ]
    },
    {
      "cell_type": "markdown",
      "metadata": {
        "id": "CD10884AwlhX"
      },
      "source": [
        "Печатаем результаты распознавания"
      ]
    },
    {
      "cell_type": "code",
      "metadata": {
        "colab": {
          "base_uri": "https://localhost:8080/"
        },
        "id": "iZm5X7hKvI40",
        "outputId": "cc2200c9-65b4-4129-e58f-5ac54fb45d95"
      },
      "source": [
        "prediction\n"
      ],
      "execution_count": 60,
      "outputs": [
        {
          "output_type": "execute_result",
          "data": {
            "text/plain": [
              "array([[0.09984042, 0.79489577, 0.10526381]], dtype=float32)"
            ]
          },
          "metadata": {},
          "execution_count": 60
        }
      ]
    }
  ]
}